{
  "nbformat": 4,
  "nbformat_minor": 0,
  "metadata": {
    "colab": {
      "provenance": [],
      "authorship_tag": "ABX9TyN0iSilTLe6JUIUcikB9N5Y",
      "include_colab_link": true
    },
    "kernelspec": {
      "name": "python3",
      "display_name": "Python 3"
    },
    "language_info": {
      "name": "python"
    }
  },
  "cells": [
    {
      "cell_type": "markdown",
      "metadata": {
        "id": "view-in-github",
        "colab_type": "text"
      },
      "source": [
        "<a href=\"https://colab.research.google.com/github/mratanusarkar/twitter-sentiment-analysis/blob/feature%2Ftweet-analysis-nlp/Notebooks/Tweet-Analysis-NLP.ipynb\" target=\"_parent\"><img src=\"https://colab.research.google.com/assets/colab-badge.svg\" alt=\"Open In Colab\"/></a>"
      ]
    },
    {
      "cell_type": "markdown",
      "source": [
        "# Tweet Analysis For Sentiment Analysis\n"
      ],
      "metadata": {
        "id": "fOKjR7dzF0az"
      }
    },
    {
      "cell_type": "markdown",
      "source": [
        "IMPORT PACKAGES"
      ],
      "metadata": {
        "id": "5tTkf5vLhQc0"
      }
    },
    {
      "cell_type": "code",
      "source": [
        "import spacy\n",
        "import numpy as n, pandas as pd\n",
        "from collections import Counter"
      ],
      "metadata": {
        "id": "Mosktjj0hTA1"
      },
      "execution_count": 2,
      "outputs": []
    },
    {
      "cell_type": "markdown",
      "source": [
        "OBJECTS AND INPUTS "
      ],
      "metadata": {
        "id": "zqDuqwMUi_kx"
      }
    },
    {
      "cell_type": "code",
      "source": [
        "english_obj=spacy.load(\"en_core_web_sm\")\n",
        "sample_doc1=english_obj(\"My name is Dripto. I am collaborating with Atanu da. I am glad I will be working with Atanu da.Very Excited!. #togetherwork #opensource\")"
      ],
      "metadata": {
        "id": "tUrwXsvvha6Q"
      },
      "execution_count": 33,
      "outputs": []
    },
    {
      "cell_type": "markdown",
      "source": [
        "PROCESSING OF TEXTS "
      ],
      "metadata": {
        "id": "DVlUHFKhjZjC"
      }
    },
    {
      "cell_type": "code",
      "source": [
        "# def words_extract(doc):\n",
        "#   #taking lists of sentences and words\n",
        "#   sens=[]\n",
        "#   words=[]\n",
        "\n",
        "#   #adding the words \n",
        "#   for sen in doc.sents:\n",
        "#     sens.append(sen)\n",
        "\n",
        "#   for sen in doc.sents:\n",
        "#     for w in sen:\n",
        "#       words.append(w)\n",
        "#   return words"
      ],
      "metadata": {
        "id": "36qipS6QilfY"
      },
      "execution_count": 17,
      "outputs": []
    },
    {
      "cell_type": "markdown",
      "source": [
        "CLEANING OF TEXTS - REMOVING PUNCTUATIONS AND OTHERS"
      ],
      "metadata": {
        "id": "VzYjOVx4paSj"
      }
    },
    {
      "cell_type": "code",
      "source": [
        "sample_doc1"
      ],
      "metadata": {
        "id": "Oj9IP63kphwG",
        "outputId": "2dc25a49-32e3-479a-d665-37a0a54fb9f7",
        "colab": {
          "base_uri": "https://localhost:8080/"
        }
      },
      "execution_count": 34,
      "outputs": [
        {
          "output_type": "execute_result",
          "data": {
            "text/plain": [
              "My name is Dripto. I am collaborating with Atanu da. I am glad I will be working with Atanu da.Very Excited!. #togetherwork #opensource"
            ]
          },
          "metadata": {},
          "execution_count": 34
        }
      ]
    },
    {
      "cell_type": "code",
      "source": [
        "clean_words=[t for t in sample_doc1 if not t.is_punct]\n",
        "clean_words_string=\" \".join(t.text for t in clean_words)\n",
        "clean_words_string"
      ],
      "metadata": {
        "id": "A4nx93otpmmv",
        "outputId": "de039839-ac80-414e-b648-41f4e0acddf0",
        "colab": {
          "base_uri": "https://localhost:8080/",
          "height": 35
        }
      },
      "execution_count": 35,
      "outputs": [
        {
          "output_type": "execute_result",
          "data": {
            "text/plain": [
              "'My name is Dripto I am collaborating with Atanu da I am glad I will be working with Atanu da Very Excited togetherwork opensource'"
            ],
            "application/vnd.google.colaboratory.intrinsic+json": {
              "type": "string"
            }
          },
          "metadata": {},
          "execution_count": 35
        }
      ]
    },
    {
      "cell_type": "code",
      "source": [],
      "metadata": {
        "id": "q_MhQH2le9Ad"
      },
      "execution_count": 8,
      "outputs": []
    },
    {
      "cell_type": "markdown",
      "source": [
        "WORD FREQ COUNT "
      ],
      "metadata": {
        "id": "Qi1NrWNY5hmm"
      }
    },
    {
      "cell_type": "code",
      "source": [
        "# --> dic return\n",
        "def wordfreq(text):\n",
        "    wf_dic={}\n",
        "    for i in text:\n",
        "        i=str(i)\n",
        "        if i not in wf_dic.keys():\n",
        "            wf_dic[i]=1\n",
        "        else:\n",
        "            wf_dic[i]+=1\n",
        "    print(wf_dic)\n",
        "    # for wfs in wf_dic.values():\n",
        "    #     wf.append(wfs)\n",
        "    return wf_dic"
      ],
      "metadata": {
        "id": "lV0LmrTdr_JW"
      },
      "execution_count": 53,
      "outputs": []
    },
    {
      "cell_type": "code",
      "source": [
        "Word_Freq=wordfreq(clean_words) # clean-words-->list"
      ],
      "metadata": {
        "id": "a2FkCHGI6P9G",
        "outputId": "e8efba87-004c-4e16-e6ed-87a8ebf18158",
        "colab": {
          "base_uri": "https://localhost:8080/"
        }
      },
      "execution_count": 54,
      "outputs": [
        {
          "output_type": "stream",
          "name": "stdout",
          "text": [
            "{'My': 1, 'name': 1, 'is': 1, 'Dripto': 1, 'I': 3, 'am': 2, 'collaborating': 1, 'with': 2, 'Atanu': 2, 'da': 2, 'glad': 1, 'will': 1, 'be': 1, 'working': 1, 'Very': 1, 'Excited': 1, 'togetherwork': 1, 'opensource': 1}\n"
          ]
        }
      ]
    },
    {
      "cell_type": "code",
      "source": [
        "#creating a dataframe\n",
        "df1=pd.DataFrame({\"WORDS\":list(Word_Freq.keys()),\"FREQ\":list(Word_Freq.values())})\n",
        "df1.head()"
      ],
      "metadata": {
        "id": "lE6FrTFki2nK",
        "outputId": "fa9f43f0-afcb-4805-b91f-e84e4b3f6564",
        "colab": {
          "base_uri": "https://localhost:8080/",
          "height": 206
        }
      },
      "execution_count": 57,
      "outputs": [
        {
          "output_type": "execute_result",
          "data": {
            "text/plain": [
              "    WORDS  FREQ\n",
              "0      My     1\n",
              "1    name     1\n",
              "2      is     1\n",
              "3  Dripto     1\n",
              "4       I     3"
            ],
            "text/html": [
              "\n",
              "  <div id=\"df-4eaacea4-7abe-4837-95e2-d0a982e2b121\">\n",
              "    <div class=\"colab-df-container\">\n",
              "      <div>\n",
              "<style scoped>\n",
              "    .dataframe tbody tr th:only-of-type {\n",
              "        vertical-align: middle;\n",
              "    }\n",
              "\n",
              "    .dataframe tbody tr th {\n",
              "        vertical-align: top;\n",
              "    }\n",
              "\n",
              "    .dataframe thead th {\n",
              "        text-align: right;\n",
              "    }\n",
              "</style>\n",
              "<table border=\"1\" class=\"dataframe\">\n",
              "  <thead>\n",
              "    <tr style=\"text-align: right;\">\n",
              "      <th></th>\n",
              "      <th>WORDS</th>\n",
              "      <th>FREQ</th>\n",
              "    </tr>\n",
              "  </thead>\n",
              "  <tbody>\n",
              "    <tr>\n",
              "      <th>0</th>\n",
              "      <td>My</td>\n",
              "      <td>1</td>\n",
              "    </tr>\n",
              "    <tr>\n",
              "      <th>1</th>\n",
              "      <td>name</td>\n",
              "      <td>1</td>\n",
              "    </tr>\n",
              "    <tr>\n",
              "      <th>2</th>\n",
              "      <td>is</td>\n",
              "      <td>1</td>\n",
              "    </tr>\n",
              "    <tr>\n",
              "      <th>3</th>\n",
              "      <td>Dripto</td>\n",
              "      <td>1</td>\n",
              "    </tr>\n",
              "    <tr>\n",
              "      <th>4</th>\n",
              "      <td>I</td>\n",
              "      <td>3</td>\n",
              "    </tr>\n",
              "  </tbody>\n",
              "</table>\n",
              "</div>\n",
              "      <button class=\"colab-df-convert\" onclick=\"convertToInteractive('df-4eaacea4-7abe-4837-95e2-d0a982e2b121')\"\n",
              "              title=\"Convert this dataframe to an interactive table.\"\n",
              "              style=\"display:none;\">\n",
              "        \n",
              "  <svg xmlns=\"http://www.w3.org/2000/svg\" height=\"24px\"viewBox=\"0 0 24 24\"\n",
              "       width=\"24px\">\n",
              "    <path d=\"M0 0h24v24H0V0z\" fill=\"none\"/>\n",
              "    <path d=\"M18.56 5.44l.94 2.06.94-2.06 2.06-.94-2.06-.94-.94-2.06-.94 2.06-2.06.94zm-11 1L8.5 8.5l.94-2.06 2.06-.94-2.06-.94L8.5 2.5l-.94 2.06-2.06.94zm10 10l.94 2.06.94-2.06 2.06-.94-2.06-.94-.94-2.06-.94 2.06-2.06.94z\"/><path d=\"M17.41 7.96l-1.37-1.37c-.4-.4-.92-.59-1.43-.59-.52 0-1.04.2-1.43.59L10.3 9.45l-7.72 7.72c-.78.78-.78 2.05 0 2.83L4 21.41c.39.39.9.59 1.41.59.51 0 1.02-.2 1.41-.59l7.78-7.78 2.81-2.81c.8-.78.8-2.07 0-2.86zM5.41 20L4 18.59l7.72-7.72 1.47 1.35L5.41 20z\"/>\n",
              "  </svg>\n",
              "      </button>\n",
              "      \n",
              "  <style>\n",
              "    .colab-df-container {\n",
              "      display:flex;\n",
              "      flex-wrap:wrap;\n",
              "      gap: 12px;\n",
              "    }\n",
              "\n",
              "    .colab-df-convert {\n",
              "      background-color: #E8F0FE;\n",
              "      border: none;\n",
              "      border-radius: 50%;\n",
              "      cursor: pointer;\n",
              "      display: none;\n",
              "      fill: #1967D2;\n",
              "      height: 32px;\n",
              "      padding: 0 0 0 0;\n",
              "      width: 32px;\n",
              "    }\n",
              "\n",
              "    .colab-df-convert:hover {\n",
              "      background-color: #E2EBFA;\n",
              "      box-shadow: 0px 1px 2px rgba(60, 64, 67, 0.3), 0px 1px 3px 1px rgba(60, 64, 67, 0.15);\n",
              "      fill: #174EA6;\n",
              "    }\n",
              "\n",
              "    [theme=dark] .colab-df-convert {\n",
              "      background-color: #3B4455;\n",
              "      fill: #D2E3FC;\n",
              "    }\n",
              "\n",
              "    [theme=dark] .colab-df-convert:hover {\n",
              "      background-color: #434B5C;\n",
              "      box-shadow: 0px 1px 3px 1px rgba(0, 0, 0, 0.15);\n",
              "      filter: drop-shadow(0px 1px 2px rgba(0, 0, 0, 0.3));\n",
              "      fill: #FFFFFF;\n",
              "    }\n",
              "  </style>\n",
              "\n",
              "      <script>\n",
              "        const buttonEl =\n",
              "          document.querySelector('#df-4eaacea4-7abe-4837-95e2-d0a982e2b121 button.colab-df-convert');\n",
              "        buttonEl.style.display =\n",
              "          google.colab.kernel.accessAllowed ? 'block' : 'none';\n",
              "\n",
              "        async function convertToInteractive(key) {\n",
              "          const element = document.querySelector('#df-4eaacea4-7abe-4837-95e2-d0a982e2b121');\n",
              "          const dataTable =\n",
              "            await google.colab.kernel.invokeFunction('convertToInteractive',\n",
              "                                                     [key], {});\n",
              "          if (!dataTable) return;\n",
              "\n",
              "          const docLinkHtml = 'Like what you see? Visit the ' +\n",
              "            '<a target=\"_blank\" href=https://colab.research.google.com/notebooks/data_table.ipynb>data table notebook</a>'\n",
              "            + ' to learn more about interactive tables.';\n",
              "          element.innerHTML = '';\n",
              "          dataTable['output_type'] = 'display_data';\n",
              "          await google.colab.output.renderOutput(dataTable, element);\n",
              "          const docLink = document.createElement('div');\n",
              "          docLink.innerHTML = docLinkHtml;\n",
              "          element.appendChild(docLink);\n",
              "        }\n",
              "      </script>\n",
              "    </div>\n",
              "  </div>\n",
              "  "
            ]
          },
          "metadata": {},
          "execution_count": 57
        }
      ]
    },
    {
      "cell_type": "code",
      "source": [],
      "metadata": {
        "id": "qafAzj13lCAs"
      },
      "execution_count": 58,
      "outputs": []
    }
  ]
}