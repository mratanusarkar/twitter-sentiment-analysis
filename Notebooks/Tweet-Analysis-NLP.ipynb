{
  "nbformat": 4,
  "nbformat_minor": 0,
  "metadata": {
    "colab": {
      "provenance": [],
      "authorship_tag": "ABX9TyOzNT/Z01T2fp+gccwmibJL",
      "include_colab_link": true
    },
    "kernelspec": {
      "name": "python3",
      "display_name": "Python 3"
    },
    "language_info": {
      "name": "python"
    }
  },
  "cells": [
    {
      "cell_type": "markdown",
      "metadata": {
        "id": "view-in-github",
        "colab_type": "text"
      },
      "source": [
        "<a href=\"https://colab.research.google.com/github/mratanusarkar/twitter-sentiment-analysis/blob/feature%2Ftweet-analysis-nlp/Notebooks/Tweet-Analysis-NLP.ipynb\" target=\"_parent\"><img src=\"https://colab.research.google.com/assets/colab-badge.svg\" alt=\"Open In Colab\"/></a>"
      ]
    },
    {
      "cell_type": "markdown",
      "source": [
        "# This is a tweet analysis nlp file\n"
      ],
      "metadata": {
        "id": "fOKjR7dzF0az"
      }
    },
    {
      "cell_type": "markdown",
      "source": [
        "Hello there-- we will be importing spacy and nltk for test"
      ],
      "metadata": {
        "id": "5tTkf5vLhQc0"
      }
    },
    {
      "cell_type": "code",
      "source": [
        "import spacy"
      ],
      "metadata": {
        "id": "Mosktjj0hTA1"
      },
      "execution_count": 2,
      "outputs": []
    },
    {
      "cell_type": "code",
      "source": [
        "nlp=spacy.load(\"en_core_web_sm\")"
      ],
      "metadata": {
        "id": "tUrwXsvvha6Q"
      },
      "execution_count": 3,
      "outputs": []
    },
    {
      "cell_type": "code",
      "source": [
        "doc1=nlp(\"My name is Dripto. I am collaborating with Atanu da. Very Excited!. #togetherwork #opensource\")"
      ],
      "metadata": {
        "id": "ItwpSHQTiOiK"
      },
      "execution_count": 4,
      "outputs": []
    },
    {
      "cell_type": "code",
      "source": [
        "for sen in doc1.sents:\n",
        "  print(sen)\n",
        "print(\"\\n\")\n",
        "for sen in doc1.sents:\n",
        "  for w in sen:\n",
        "    print(w)"
      ],
      "metadata": {
        "id": "36qipS6QilfY",
        "outputId": "c3112c62-2360-475c-d7e2-8695e388f27c",
        "colab": {
          "base_uri": "https://localhost:8080/"
        }
      },
      "execution_count": 7,
      "outputs": [
        {
          "output_type": "stream",
          "name": "stdout",
          "text": [
            "My name is Dripto.\n",
            "I am collaborating with Atanu da.\n",
            "Very Excited!.\n",
            "#togetherwork #opensource\n",
            "\n",
            "\n",
            "My\n",
            "name\n",
            "is\n",
            "Dripto\n",
            ".\n",
            "I\n",
            "am\n",
            "collaborating\n",
            "with\n",
            "Atanu\n",
            "da\n",
            ".\n",
            "Very\n",
            "Excited\n",
            "!\n",
            ".\n",
            "#\n",
            "togetherwork\n",
            "#\n",
            "opensource\n"
          ]
        }
      ]
    },
    {
      "cell_type": "code",
      "source": [],
      "metadata": {
        "id": "lE6FrTFki2nK"
      },
      "execution_count": null,
      "outputs": []
    }
  ]
}