{
  "nbformat": 4,
  "nbformat_minor": 0,
  "metadata": {
    "colab": {
      "provenance": [],
      "authorship_tag": "ABX9TyMXaLUt6GFkY9XAtrA3R55v",
      "include_colab_link": true
    },
    "kernelspec": {
      "name": "python3",
      "display_name": "Python 3"
    },
    "language_info": {
      "name": "python"
    }
  },
  "cells": [
    {
      "cell_type": "markdown",
      "metadata": {
        "id": "view-in-github",
        "colab_type": "text"
      },
      "source": [
        "<a href=\"https://colab.research.google.com/github/mratanusarkar/twitter-sentiment-analysis/blob/feature%2Ftwitter-api/Notebooks/Twitter_API.ipynb\" target=\"_parent\"><img src=\"https://colab.research.google.com/assets/colab-badge.svg\" alt=\"Open In Colab\"/></a>"
      ]
    },
    {
      "cell_type": "markdown",
      "source": [
        "# Twitter API"
      ],
      "metadata": {
        "id": "ZUQ1RktOEYfL"
      }
    },
    {
      "cell_type": "markdown",
      "source": [
        "Aim is to connect to twitter via API (v2) and use it to pull tweets based on filters and conditions such as:\n",
        "- hashtags (#)\n",
        "- userId or mentions (@)\n",
        "- keywords (string)\n",
        "\n",
        "Using the retrieved data, sort and order the tweets based on various parameters such as:\n",
        "- number of likes\n",
        "- number of comments\n",
        "- number of retweets\n",
        "- number of engagement or view count\n",
        "\n",
        "So that, the data can be used for sentiment analysis.\n",
        "\n",
        "In future (v2), we can also go in depth into each \"tweet thread\" and \"quote tweet (retweet)\" to find links and relations with each other, and get different analysis."
      ],
      "metadata": {
        "id": "bCyne9i_sw_k"
      }
    },
    {
      "cell_type": "markdown",
      "source": [
        "## Import Packages"
      ],
      "metadata": {
        "id": "ZV1qc4LVuVwf"
      }
    },
    {
      "cell_type": "code",
      "source": [
        "import tweepy\n",
        "import configparser\n",
        "import pandas as pd\n",
        "from pprint import pprint"
      ],
      "metadata": {
        "id": "ylrtiFHdsBdL"
      },
      "execution_count": 1,
      "outputs": []
    },
    {
      "cell_type": "code",
      "source": [],
      "metadata": {
        "id": "i2uSlQ7O0qbp"
      },
      "execution_count": 1,
      "outputs": []
    },
    {
      "cell_type": "markdown",
      "source": [
        "## Input secrets and keys"
      ],
      "metadata": {
        "id": "z6U-a-i7uhr9"
      }
    },
    {
      "cell_type": "code",
      "execution_count": 2,
      "metadata": {
        "id": "XYyy6mRaETP8"
      },
      "outputs": [],
      "source": [
        "# secrets and keys\n",
        "api_key = \"<API_KEY>\"\n",
        "api_key_secret = \"<API_KEY_SECRET>\"\n",
        "bearer_token = \"<BEARER_TOKEN>\"\n",
        "access_token = \"<ACCESS_TOKEN>\"\n",
        "access_token_secret = \"<ACCESS_TOKEN_SECRET>\""
      ]
    },
    {
      "cell_type": "code",
      "source": [],
      "metadata": {
        "id": "q9ccPtdqsM9d"
      },
      "execution_count": 2,
      "outputs": []
    },
    {
      "cell_type": "markdown",
      "source": [
        "## Connect to Twitter API"
      ],
      "metadata": {
        "id": "Dx3Mtu7SurPL"
      }
    },
    {
      "cell_type": "code",
      "source": [
        "# set auth handler\n",
        "auth = tweepy.OAuthHandler(api_key, api_key_secret)\n",
        "auth.set_access_token(access_token, access_token_secret)\n",
        "\n",
        "# authenticate and get api handler\n",
        "api = tweepy.API(auth)"
      ],
      "metadata": {
        "id": "4S6fMjBcupS6"
      },
      "execution_count": 3,
      "outputs": []
    },
    {
      "cell_type": "code",
      "source": [],
      "metadata": {
        "id": "k_hjnlptsNAM"
      },
      "execution_count": 3,
      "outputs": []
    },
    {
      "cell_type": "markdown",
      "source": [
        "## Pull tweets using various methods"
      ],
      "metadata": {
        "id": "gajxWg6jwGt6"
      }
    },
    {
      "cell_type": "code",
      "source": [
        "# get public tweets from my timeline\n",
        "limit = 1\n",
        "\n",
        "tweets_from_public_timeline = api.home_timeline(count=limit)\n",
        "# pprint(tweets_from_public_timeline[0]._json)\n",
        "print(tweets_from_public_timeline[0].text)"
      ],
      "metadata": {
        "id": "3WnEwcKVsNC6",
        "outputId": "be351780-0a1c-4302-8093-babfec9b6e22",
        "colab": {
          "base_uri": "https://localhost:8080/"
        }
      },
      "execution_count": 4,
      "outputs": [
        {
          "output_type": "stream",
          "name": "stdout",
          "text": [
            "A Review in @NatRevClinOncol summarizes the multidimensional cellular and molecular profiling technologies that hav… https://t.co/QVAh9RWj88\n"
          ]
        }
      ]
    },
    {
      "cell_type": "code",
      "source": [
        "# get tweets from specific user\n",
        "user = 'mratanusarkar'\n",
        "limit = 1\n",
        "\n",
        "tweets_from_user_timeline = api.user_timeline(screen_name=user, count=limit, tweet_mode='extended')\n",
        "# pprint(tweets_from_user_timeline[0]._json)\n",
        "print(tweets_from_user_timeline[0].full_text)"
      ],
      "metadata": {
        "id": "JUOFZhlN3R8v",
        "outputId": "cb9952db-944f-42e5-fcbe-b05414adde3f",
        "colab": {
          "base_uri": "https://localhost:8080/"
        }
      },
      "execution_count": 5,
      "outputs": [
        {
          "output_type": "stream",
          "name": "stdout",
          "text": [
            "Good to see latest technology getting into chess as well!! https://t.co/8k9jQtSB1K\n"
          ]
        }
      ]
    },
    {
      "cell_type": "code",
      "source": [
        "# get tweets using keywords, #hashtags or @mentions"
      ],
      "metadata": {
        "id": "gb9I1zoN8JMD"
      },
      "execution_count": 33,
      "outputs": []
    },
    {
      "cell_type": "code",
      "source": [
        "# get tweets from keywords\n",
        "keywords = \"physics\"\n",
        "limit = 1\n",
        "\n",
        "tweets_from_keywords = api.search(q=keywords, count=limit, tweet_mode='extended')\n",
        "# pprint(tweets_from_keywords[0]._json)\n",
        "print(tweets_from_keywords[0].full_text)"
      ],
      "metadata": {
        "id": "2FAZiT8C6lIA",
        "outputId": "e8e5b476-1803-4ea8-dd5c-d7aff7d5c0d8",
        "colab": {
          "base_uri": "https://localhost:8080/"
        }
      },
      "execution_count": 6,
      "outputs": [
        {
          "output_type": "stream",
          "name": "stdout",
          "text": [
            "RT @1MASHMARTIN: What do you remember in Physics?\n"
          ]
        }
      ]
    },
    {
      "cell_type": "code",
      "source": [
        "# get tweets from #hashtags\n",
        "keywords = \"#physics\"\n",
        "limit = 1\n",
        "\n",
        "tweets_from_keywords = api.search(q=keywords, count=limit, tweet_mode='extended', include_entities=True)\n",
        "# pprint(tweets_from_keywords[0]._json)\n",
        "print(tweets_from_keywords[0].full_text)"
      ],
      "metadata": {
        "id": "IWVmq2Bt7peX",
        "outputId": "5ec7fd05-6daf-40f9-ec07-0ca954ef12b0",
        "colab": {
          "base_uri": "https://localhost:8080/"
        }
      },
      "execution_count": 7,
      "outputs": [
        {
          "output_type": "stream",
          "name": "stdout",
          "text": [
            "❤️‍🔥❤️‍🔥❤️‍🔥💛🤎💖 \n",
            " #science #education #biology #physics #chemistry #technology https://t.co/NN1UHwxt2d\n"
          ]
        }
      ]
    },
    {
      "cell_type": "code",
      "source": [
        "# get tweets from @users or @mentions\n",
        "keywords = \"@3blue1brown\"\n",
        "limit = 1\n",
        "\n",
        "tweets_from_keywords = api.search(q=keywords, count=limit, tweet_mode='extended', include_entities=True)\n",
        "# pprint(tweets_from_keywords[0]._json)\n",
        "print(tweets_from_keywords[0].full_text)"
      ],
      "metadata": {
        "id": "Lw5RujBz8GY4",
        "outputId": "cf34340e-4576-4b8b-8717-f99f1b4455d4",
        "colab": {
          "base_uri": "https://localhost:8080/"
        }
      },
      "execution_count": 8,
      "outputs": [
        {
          "output_type": "stream",
          "name": "stdout",
          "text": [
            "RT @michele_geraci: Domanda: Come fanno le reti neuronali e Intelligenza Artificiale ad imparare? \n",
            "\n",
            "Risposta: Gradient Descent\n",
            "\n",
            "Secondo vid…\n"
          ]
        }
      ]
    },
    {
      "cell_type": "code",
      "source": [
        "# combination of all\n",
        "query = \"#math OR #mathematics AND @3blue1brown\"\n",
        "limit = 1\n",
        "\n",
        "tweets_from_keywords = api.search(q=query, count=limit, tweet_mode='extended', include_entities=True)\n",
        "# pprint(tweets_from_keywords[0]._json)\n",
        "print(tweets_from_keywords[0].full_text)"
      ],
      "metadata": {
        "id": "VcbagUgF8cZq",
        "outputId": "f86e87c4-aaca-4005-e54e-4b6e8ca4b6aa",
        "colab": {
          "base_uri": "https://localhost:8080/"
        }
      },
      "execution_count": 9,
      "outputs": [
        {
          "output_type": "stream",
          "name": "stdout",
          "text": [
            "RT @TheGaloisCxn: I’d love some outside opinion on or verification of this proof! 🧐 \n",
            "\n",
            "Has anyone in the #Mathematics #YouTube community see…\n"
          ]
        }
      ]
    },
    {
      "cell_type": "code",
      "source": [],
      "metadata": {
        "id": "64bRVI-j8cdE"
      },
      "execution_count": null,
      "outputs": []
    },
    {
      "cell_type": "code",
      "source": [
        "# use cursor to avoid the API cap\n",
        "query = \"#math OR #mathematics AND @3blue1brown OR physics\"\n",
        "limit = 300\n",
        "\n",
        "tweets = tweepy.Cursor(api.search, q=query, count=100, tweet_mode='extended').items(limit)\n",
        "print(tweets)"
      ],
      "metadata": {
        "id": "SyU3ShDW3R_Y",
        "outputId": "dfcea488-4426-418d-b847-06884c02c1c4",
        "colab": {
          "base_uri": "https://localhost:8080/"
        }
      },
      "execution_count": 15,
      "outputs": [
        {
          "output_type": "stream",
          "name": "stdout",
          "text": [
            "<tweepy.cursor.ItemIterator object at 0x7fd11bd33e50>\n"
          ]
        }
      ]
    },
    {
      "cell_type": "code",
      "source": [
        "# print(list(tweets)[0].full_text)\n",
        "# it seems that we can access the iterable only once!! \n",
        "# so better convert it to a df"
      ],
      "metadata": {
        "id": "wAUjsA563SHC"
      },
      "execution_count": 14,
      "outputs": []
    },
    {
      "cell_type": "code",
      "source": [
        "# print all tweets\n",
        "# for i, tweet in list(tweets):\n",
        "#     print(i, \":\", tweet.full_text)"
      ],
      "metadata": {
        "id": "ddMkUDwKsNGD"
      },
      "execution_count": 52,
      "outputs": []
    },
    {
      "cell_type": "code",
      "source": [],
      "metadata": {
        "id": "9-pvBRaP3Z6N"
      },
      "execution_count": null,
      "outputs": []
    },
    {
      "cell_type": "markdown",
      "source": [
        "## Save the data in a DataFrame"
      ],
      "metadata": {
        "id": "rzoFczQh0t9r"
      }
    },
    {
      "cell_type": "code",
      "source": [
        "# define the column names\n",
        "columns = [\"Time\", \"User\", \"Tweet\"]\n",
        "data = []"
      ],
      "metadata": {
        "id": "k4Uht9v_04FF"
      },
      "execution_count": 16,
      "outputs": []
    },
    {
      "cell_type": "code",
      "source": [
        "for tweet in tweets:\n",
        "    data.append([tweet.created_at, tweet.user.screen_name, tweet.full_text])\n",
        "dataframe = pd.DataFrame(data, columns=columns)\n",
        "dataframe"
      ],
      "metadata": {
        "id": "DuuuYZEA1PBm",
        "outputId": "7ce23269-0283-479b-b6c6-795903c930c4",
        "colab": {
          "base_uri": "https://localhost:8080/",
          "height": 423
        }
      },
      "execution_count": 17,
      "outputs": [
        {
          "output_type": "execute_result",
          "data": {
            "text/plain": [
              "                   Time            User  \\\n",
              "0   2023-02-07 14:13:40      Editordon2   \n",
              "1   2023-02-07 14:05:16   russellmanthy   \n",
              "2   2023-02-07 14:04:18  Earthworksjobs   \n",
              "3   2023-02-07 14:03:47       YosleidiN   \n",
              "4   2023-02-07 14:02:09      NewLeibniz   \n",
              "..                  ...             ...   \n",
              "295 2023-02-06 06:07:54   Legitwriters2   \n",
              "296 2023-02-06 06:07:52   Legitwriters2   \n",
              "297 2023-02-06 06:07:28   Legitwriters2   \n",
              "298 2023-02-06 06:07:19   Legitwriters2   \n",
              "299 2023-02-06 06:07:19   Legitwriters2   \n",
              "\n",
              "                                                 Tweet  \n",
              "0    Don't struggle, we are here to help\\n#book rev...  \n",
              "1    Richard Feynman’s path integral is both a powe...  \n",
              "2    Postdoc - Storyline scenarios of extreme event...  \n",
              "3    RT @dment37: d²=a²+b²+c² (Pythagoras in 3D): p...  \n",
              "4    #math #physics I can't read music, but I insta...  \n",
              "..                                                 ...  \n",
              "295  Experts available and reliable to ace academic...  \n",
              "296  Experts available and reliable to ace academic...  \n",
              "297  Experts available and reliable to ace academic...  \n",
              "298  Experts available and reliable to ace academic...  \n",
              "299  Experts available and reliable to ace academic...  \n",
              "\n",
              "[300 rows x 3 columns]"
            ],
            "text/html": [
              "\n",
              "  <div id=\"df-82064611-0d60-458c-aa89-c667107c4a97\">\n",
              "    <div class=\"colab-df-container\">\n",
              "      <div>\n",
              "<style scoped>\n",
              "    .dataframe tbody tr th:only-of-type {\n",
              "        vertical-align: middle;\n",
              "    }\n",
              "\n",
              "    .dataframe tbody tr th {\n",
              "        vertical-align: top;\n",
              "    }\n",
              "\n",
              "    .dataframe thead th {\n",
              "        text-align: right;\n",
              "    }\n",
              "</style>\n",
              "<table border=\"1\" class=\"dataframe\">\n",
              "  <thead>\n",
              "    <tr style=\"text-align: right;\">\n",
              "      <th></th>\n",
              "      <th>Time</th>\n",
              "      <th>User</th>\n",
              "      <th>Tweet</th>\n",
              "    </tr>\n",
              "  </thead>\n",
              "  <tbody>\n",
              "    <tr>\n",
              "      <th>0</th>\n",
              "      <td>2023-02-07 14:13:40</td>\n",
              "      <td>Editordon2</td>\n",
              "      <td>Don't struggle, we are here to help\\n#book rev...</td>\n",
              "    </tr>\n",
              "    <tr>\n",
              "      <th>1</th>\n",
              "      <td>2023-02-07 14:05:16</td>\n",
              "      <td>russellmanthy</td>\n",
              "      <td>Richard Feynman’s path integral is both a powe...</td>\n",
              "    </tr>\n",
              "    <tr>\n",
              "      <th>2</th>\n",
              "      <td>2023-02-07 14:04:18</td>\n",
              "      <td>Earthworksjobs</td>\n",
              "      <td>Postdoc - Storyline scenarios of extreme event...</td>\n",
              "    </tr>\n",
              "    <tr>\n",
              "      <th>3</th>\n",
              "      <td>2023-02-07 14:03:47</td>\n",
              "      <td>YosleidiN</td>\n",
              "      <td>RT @dment37: d²=a²+b²+c² (Pythagoras in 3D): p...</td>\n",
              "    </tr>\n",
              "    <tr>\n",
              "      <th>4</th>\n",
              "      <td>2023-02-07 14:02:09</td>\n",
              "      <td>NewLeibniz</td>\n",
              "      <td>#math #physics I can't read music, but I insta...</td>\n",
              "    </tr>\n",
              "    <tr>\n",
              "      <th>...</th>\n",
              "      <td>...</td>\n",
              "      <td>...</td>\n",
              "      <td>...</td>\n",
              "    </tr>\n",
              "    <tr>\n",
              "      <th>295</th>\n",
              "      <td>2023-02-06 06:07:54</td>\n",
              "      <td>Legitwriters2</td>\n",
              "      <td>Experts available and reliable to ace academic...</td>\n",
              "    </tr>\n",
              "    <tr>\n",
              "      <th>296</th>\n",
              "      <td>2023-02-06 06:07:52</td>\n",
              "      <td>Legitwriters2</td>\n",
              "      <td>Experts available and reliable to ace academic...</td>\n",
              "    </tr>\n",
              "    <tr>\n",
              "      <th>297</th>\n",
              "      <td>2023-02-06 06:07:28</td>\n",
              "      <td>Legitwriters2</td>\n",
              "      <td>Experts available and reliable to ace academic...</td>\n",
              "    </tr>\n",
              "    <tr>\n",
              "      <th>298</th>\n",
              "      <td>2023-02-06 06:07:19</td>\n",
              "      <td>Legitwriters2</td>\n",
              "      <td>Experts available and reliable to ace academic...</td>\n",
              "    </tr>\n",
              "    <tr>\n",
              "      <th>299</th>\n",
              "      <td>2023-02-06 06:07:19</td>\n",
              "      <td>Legitwriters2</td>\n",
              "      <td>Experts available and reliable to ace academic...</td>\n",
              "    </tr>\n",
              "  </tbody>\n",
              "</table>\n",
              "<p>300 rows × 3 columns</p>\n",
              "</div>\n",
              "      <button class=\"colab-df-convert\" onclick=\"convertToInteractive('df-82064611-0d60-458c-aa89-c667107c4a97')\"\n",
              "              title=\"Convert this dataframe to an interactive table.\"\n",
              "              style=\"display:none;\">\n",
              "        \n",
              "  <svg xmlns=\"http://www.w3.org/2000/svg\" height=\"24px\"viewBox=\"0 0 24 24\"\n",
              "       width=\"24px\">\n",
              "    <path d=\"M0 0h24v24H0V0z\" fill=\"none\"/>\n",
              "    <path d=\"M18.56 5.44l.94 2.06.94-2.06 2.06-.94-2.06-.94-.94-2.06-.94 2.06-2.06.94zm-11 1L8.5 8.5l.94-2.06 2.06-.94-2.06-.94L8.5 2.5l-.94 2.06-2.06.94zm10 10l.94 2.06.94-2.06 2.06-.94-2.06-.94-.94-2.06-.94 2.06-2.06.94z\"/><path d=\"M17.41 7.96l-1.37-1.37c-.4-.4-.92-.59-1.43-.59-.52 0-1.04.2-1.43.59L10.3 9.45l-7.72 7.72c-.78.78-.78 2.05 0 2.83L4 21.41c.39.39.9.59 1.41.59.51 0 1.02-.2 1.41-.59l7.78-7.78 2.81-2.81c.8-.78.8-2.07 0-2.86zM5.41 20L4 18.59l7.72-7.72 1.47 1.35L5.41 20z\"/>\n",
              "  </svg>\n",
              "      </button>\n",
              "      \n",
              "  <style>\n",
              "    .colab-df-container {\n",
              "      display:flex;\n",
              "      flex-wrap:wrap;\n",
              "      gap: 12px;\n",
              "    }\n",
              "\n",
              "    .colab-df-convert {\n",
              "      background-color: #E8F0FE;\n",
              "      border: none;\n",
              "      border-radius: 50%;\n",
              "      cursor: pointer;\n",
              "      display: none;\n",
              "      fill: #1967D2;\n",
              "      height: 32px;\n",
              "      padding: 0 0 0 0;\n",
              "      width: 32px;\n",
              "    }\n",
              "\n",
              "    .colab-df-convert:hover {\n",
              "      background-color: #E2EBFA;\n",
              "      box-shadow: 0px 1px 2px rgba(60, 64, 67, 0.3), 0px 1px 3px 1px rgba(60, 64, 67, 0.15);\n",
              "      fill: #174EA6;\n",
              "    }\n",
              "\n",
              "    [theme=dark] .colab-df-convert {\n",
              "      background-color: #3B4455;\n",
              "      fill: #D2E3FC;\n",
              "    }\n",
              "\n",
              "    [theme=dark] .colab-df-convert:hover {\n",
              "      background-color: #434B5C;\n",
              "      box-shadow: 0px 1px 3px 1px rgba(0, 0, 0, 0.15);\n",
              "      filter: drop-shadow(0px 1px 2px rgba(0, 0, 0, 0.3));\n",
              "      fill: #FFFFFF;\n",
              "    }\n",
              "  </style>\n",
              "\n",
              "      <script>\n",
              "        const buttonEl =\n",
              "          document.querySelector('#df-82064611-0d60-458c-aa89-c667107c4a97 button.colab-df-convert');\n",
              "        buttonEl.style.display =\n",
              "          google.colab.kernel.accessAllowed ? 'block' : 'none';\n",
              "\n",
              "        async function convertToInteractive(key) {\n",
              "          const element = document.querySelector('#df-82064611-0d60-458c-aa89-c667107c4a97');\n",
              "          const dataTable =\n",
              "            await google.colab.kernel.invokeFunction('convertToInteractive',\n",
              "                                                     [key], {});\n",
              "          if (!dataTable) return;\n",
              "\n",
              "          const docLinkHtml = 'Like what you see? Visit the ' +\n",
              "            '<a target=\"_blank\" href=https://colab.research.google.com/notebooks/data_table.ipynb>data table notebook</a>'\n",
              "            + ' to learn more about interactive tables.';\n",
              "          element.innerHTML = '';\n",
              "          dataTable['output_type'] = 'display_data';\n",
              "          await google.colab.output.renderOutput(dataTable, element);\n",
              "          const docLink = document.createElement('div');\n",
              "          docLink.innerHTML = docLinkHtml;\n",
              "          element.appendChild(docLink);\n",
              "        }\n",
              "      </script>\n",
              "    </div>\n",
              "  </div>\n",
              "  "
            ]
          },
          "metadata": {},
          "execution_count": 17
        }
      ]
    },
    {
      "cell_type": "code",
      "source": [
        "# export data\n",
        "# dataframe.to_json(\"tweets.json\")\n",
        "# dataframe.to_csv(\"tweets.csv\")"
      ],
      "metadata": {
        "id": "REpDCmhr2Pyv"
      },
      "execution_count": null,
      "outputs": []
    },
    {
      "cell_type": "code",
      "source": [],
      "metadata": {
        "id": "3Z92u9Da2e66"
      },
      "execution_count": null,
      "outputs": []
    }
  ]
}