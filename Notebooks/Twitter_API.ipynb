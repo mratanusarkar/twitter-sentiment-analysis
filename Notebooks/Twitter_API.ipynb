{
  "nbformat": 4,
  "nbformat_minor": 0,
  "metadata": {
    "colab": {
      "provenance": [],
      "toc_visible": true,
      "authorship_tag": "ABX9TyPYXwr7SpHFyJ9ED+UAseVd",
      "include_colab_link": true
    },
    "kernelspec": {
      "name": "python3",
      "display_name": "Python 3"
    },
    "language_info": {
      "name": "python"
    },
    "widgets": {
      "application/vnd.jupyter.widget-state+json": {
        "dac56bd3555e45d7b8b88792ddfeb016": {
          "model_module": "@jupyter-widgets/controls",
          "model_name": "HBoxModel",
          "model_module_version": "1.5.0",
          "state": {
            "_dom_classes": [],
            "_model_module": "@jupyter-widgets/controls",
            "_model_module_version": "1.5.0",
            "_model_name": "HBoxModel",
            "_view_count": null,
            "_view_module": "@jupyter-widgets/controls",
            "_view_module_version": "1.5.0",
            "_view_name": "HBoxView",
            "box_style": "",
            "children": [
              "IPY_MODEL_53f7cb075641489abb6933770908d2cb",
              "IPY_MODEL_64dd981eff8e46dfaf046bb8c1f936ea",
              "IPY_MODEL_008082d5a7e84c338dc2c544d6354e7e"
            ],
            "layout": "IPY_MODEL_79b487c665a646c49bd81316e834c639"
          }
        },
        "53f7cb075641489abb6933770908d2cb": {
          "model_module": "@jupyter-widgets/controls",
          "model_name": "HTMLModel",
          "model_module_version": "1.5.0",
          "state": {
            "_dom_classes": [],
            "_model_module": "@jupyter-widgets/controls",
            "_model_module_version": "1.5.0",
            "_model_name": "HTMLModel",
            "_view_count": null,
            "_view_module": "@jupyter-widgets/controls",
            "_view_module_version": "1.5.0",
            "_view_name": "HTMLView",
            "description": "",
            "description_tooltip": null,
            "layout": "IPY_MODEL_994fd386ca724bf7985216b62f70d062",
            "placeholder": "​",
            "style": "IPY_MODEL_e501113426fe4f78ab02b930c7613d92",
            "value": "100%"
          }
        },
        "64dd981eff8e46dfaf046bb8c1f936ea": {
          "model_module": "@jupyter-widgets/controls",
          "model_name": "FloatProgressModel",
          "model_module_version": "1.5.0",
          "state": {
            "_dom_classes": [],
            "_model_module": "@jupyter-widgets/controls",
            "_model_module_version": "1.5.0",
            "_model_name": "FloatProgressModel",
            "_view_count": null,
            "_view_module": "@jupyter-widgets/controls",
            "_view_module_version": "1.5.0",
            "_view_name": "ProgressView",
            "bar_style": "danger",
            "description": "",
            "description_tooltip": null,
            "layout": "IPY_MODEL_c8eaadcf3cc749b4a2a2f99f3e86592d",
            "max": 10,
            "min": 0,
            "orientation": "horizontal",
            "style": "IPY_MODEL_85c4df5b223a4379815b9c6d1b8a14d4",
            "value": 10
          }
        },
        "008082d5a7e84c338dc2c544d6354e7e": {
          "model_module": "@jupyter-widgets/controls",
          "model_name": "HTMLModel",
          "model_module_version": "1.5.0",
          "state": {
            "_dom_classes": [],
            "_model_module": "@jupyter-widgets/controls",
            "_model_module_version": "1.5.0",
            "_model_name": "HTMLModel",
            "_view_count": null,
            "_view_module": "@jupyter-widgets/controls",
            "_view_module_version": "1.5.0",
            "_view_name": "HTMLView",
            "description": "",
            "description_tooltip": null,
            "layout": "IPY_MODEL_0dec31e05fb24d959cb0d4c09de0a161",
            "placeholder": "​",
            "style": "IPY_MODEL_b93cecc8cf964dda8b877123061cb07d",
            "value": " 10/10 [00:00&lt;00:00,  1.17it/s]"
          }
        },
        "79b487c665a646c49bd81316e834c639": {
          "model_module": "@jupyter-widgets/base",
          "model_name": "LayoutModel",
          "model_module_version": "1.2.0",
          "state": {
            "_model_module": "@jupyter-widgets/base",
            "_model_module_version": "1.2.0",
            "_model_name": "LayoutModel",
            "_view_count": null,
            "_view_module": "@jupyter-widgets/base",
            "_view_module_version": "1.2.0",
            "_view_name": "LayoutView",
            "align_content": null,
            "align_items": null,
            "align_self": null,
            "border": null,
            "bottom": null,
            "display": null,
            "flex": null,
            "flex_flow": null,
            "grid_area": null,
            "grid_auto_columns": null,
            "grid_auto_flow": null,
            "grid_auto_rows": null,
            "grid_column": null,
            "grid_gap": null,
            "grid_row": null,
            "grid_template_areas": null,
            "grid_template_columns": null,
            "grid_template_rows": null,
            "height": null,
            "justify_content": null,
            "justify_items": null,
            "left": null,
            "margin": null,
            "max_height": null,
            "max_width": null,
            "min_height": null,
            "min_width": null,
            "object_fit": null,
            "object_position": null,
            "order": null,
            "overflow": null,
            "overflow_x": null,
            "overflow_y": null,
            "padding": null,
            "right": null,
            "top": null,
            "visibility": null,
            "width": null
          }
        },
        "994fd386ca724bf7985216b62f70d062": {
          "model_module": "@jupyter-widgets/base",
          "model_name": "LayoutModel",
          "model_module_version": "1.2.0",
          "state": {
            "_model_module": "@jupyter-widgets/base",
            "_model_module_version": "1.2.0",
            "_model_name": "LayoutModel",
            "_view_count": null,
            "_view_module": "@jupyter-widgets/base",
            "_view_module_version": "1.2.0",
            "_view_name": "LayoutView",
            "align_content": null,
            "align_items": null,
            "align_self": null,
            "border": null,
            "bottom": null,
            "display": null,
            "flex": null,
            "flex_flow": null,
            "grid_area": null,
            "grid_auto_columns": null,
            "grid_auto_flow": null,
            "grid_auto_rows": null,
            "grid_column": null,
            "grid_gap": null,
            "grid_row": null,
            "grid_template_areas": null,
            "grid_template_columns": null,
            "grid_template_rows": null,
            "height": null,
            "justify_content": null,
            "justify_items": null,
            "left": null,
            "margin": null,
            "max_height": null,
            "max_width": null,
            "min_height": null,
            "min_width": null,
            "object_fit": null,
            "object_position": null,
            "order": null,
            "overflow": null,
            "overflow_x": null,
            "overflow_y": null,
            "padding": null,
            "right": null,
            "top": null,
            "visibility": null,
            "width": null
          }
        },
        "e501113426fe4f78ab02b930c7613d92": {
          "model_module": "@jupyter-widgets/controls",
          "model_name": "DescriptionStyleModel",
          "model_module_version": "1.5.0",
          "state": {
            "_model_module": "@jupyter-widgets/controls",
            "_model_module_version": "1.5.0",
            "_model_name": "DescriptionStyleModel",
            "_view_count": null,
            "_view_module": "@jupyter-widgets/base",
            "_view_module_version": "1.2.0",
            "_view_name": "StyleView",
            "description_width": ""
          }
        },
        "c8eaadcf3cc749b4a2a2f99f3e86592d": {
          "model_module": "@jupyter-widgets/base",
          "model_name": "LayoutModel",
          "model_module_version": "1.2.0",
          "state": {
            "_model_module": "@jupyter-widgets/base",
            "_model_module_version": "1.2.0",
            "_model_name": "LayoutModel",
            "_view_count": null,
            "_view_module": "@jupyter-widgets/base",
            "_view_module_version": "1.2.0",
            "_view_name": "LayoutView",
            "align_content": null,
            "align_items": null,
            "align_self": null,
            "border": null,
            "bottom": null,
            "display": null,
            "flex": null,
            "flex_flow": null,
            "grid_area": null,
            "grid_auto_columns": null,
            "grid_auto_flow": null,
            "grid_auto_rows": null,
            "grid_column": null,
            "grid_gap": null,
            "grid_row": null,
            "grid_template_areas": null,
            "grid_template_columns": null,
            "grid_template_rows": null,
            "height": null,
            "justify_content": null,
            "justify_items": null,
            "left": null,
            "margin": null,
            "max_height": null,
            "max_width": null,
            "min_height": null,
            "min_width": null,
            "object_fit": null,
            "object_position": null,
            "order": null,
            "overflow": null,
            "overflow_x": null,
            "overflow_y": null,
            "padding": null,
            "right": null,
            "top": null,
            "visibility": null,
            "width": null
          }
        },
        "85c4df5b223a4379815b9c6d1b8a14d4": {
          "model_module": "@jupyter-widgets/controls",
          "model_name": "ProgressStyleModel",
          "model_module_version": "1.5.0",
          "state": {
            "_model_module": "@jupyter-widgets/controls",
            "_model_module_version": "1.5.0",
            "_model_name": "ProgressStyleModel",
            "_view_count": null,
            "_view_module": "@jupyter-widgets/base",
            "_view_module_version": "1.2.0",
            "_view_name": "StyleView",
            "bar_color": null,
            "description_width": ""
          }
        },
        "0dec31e05fb24d959cb0d4c09de0a161": {
          "model_module": "@jupyter-widgets/base",
          "model_name": "LayoutModel",
          "model_module_version": "1.2.0",
          "state": {
            "_model_module": "@jupyter-widgets/base",
            "_model_module_version": "1.2.0",
            "_model_name": "LayoutModel",
            "_view_count": null,
            "_view_module": "@jupyter-widgets/base",
            "_view_module_version": "1.2.0",
            "_view_name": "LayoutView",
            "align_content": null,
            "align_items": null,
            "align_self": null,
            "border": null,
            "bottom": null,
            "display": null,
            "flex": null,
            "flex_flow": null,
            "grid_area": null,
            "grid_auto_columns": null,
            "grid_auto_flow": null,
            "grid_auto_rows": null,
            "grid_column": null,
            "grid_gap": null,
            "grid_row": null,
            "grid_template_areas": null,
            "grid_template_columns": null,
            "grid_template_rows": null,
            "height": null,
            "justify_content": null,
            "justify_items": null,
            "left": null,
            "margin": null,
            "max_height": null,
            "max_width": null,
            "min_height": null,
            "min_width": null,
            "object_fit": null,
            "object_position": null,
            "order": null,
            "overflow": null,
            "overflow_x": null,
            "overflow_y": null,
            "padding": null,
            "right": null,
            "top": null,
            "visibility": null,
            "width": null
          }
        },
        "b93cecc8cf964dda8b877123061cb07d": {
          "model_module": "@jupyter-widgets/controls",
          "model_name": "DescriptionStyleModel",
          "model_module_version": "1.5.0",
          "state": {
            "_model_module": "@jupyter-widgets/controls",
            "_model_module_version": "1.5.0",
            "_model_name": "DescriptionStyleModel",
            "_view_count": null,
            "_view_module": "@jupyter-widgets/base",
            "_view_module_version": "1.2.0",
            "_view_name": "StyleView",
            "description_width": ""
          }
        },
        "abb56c25df3445e2885224704c6ab00b": {
          "model_module": "@jupyter-widgets/controls",
          "model_name": "HBoxModel",
          "model_module_version": "1.5.0",
          "state": {
            "_dom_classes": [],
            "_model_module": "@jupyter-widgets/controls",
            "_model_module_version": "1.5.0",
            "_model_name": "HBoxModel",
            "_view_count": null,
            "_view_module": "@jupyter-widgets/controls",
            "_view_module_version": "1.5.0",
            "_view_name": "HBoxView",
            "box_style": "",
            "children": [
              "IPY_MODEL_34c4f0266ffe4355af5abea2c4849012",
              "IPY_MODEL_a8d523856eac48e68b8bcaed8a56fcc7",
              "IPY_MODEL_233ed32971054edab49baa3be376a44c"
            ],
            "layout": "IPY_MODEL_9d602639c1874aa89901b5755efb56eb"
          }
        },
        "34c4f0266ffe4355af5abea2c4849012": {
          "model_module": "@jupyter-widgets/controls",
          "model_name": "HTMLModel",
          "model_module_version": "1.5.0",
          "state": {
            "_dom_classes": [],
            "_model_module": "@jupyter-widgets/controls",
            "_model_module_version": "1.5.0",
            "_model_name": "HTMLModel",
            "_view_count": null,
            "_view_module": "@jupyter-widgets/controls",
            "_view_module_version": "1.5.0",
            "_view_name": "HTMLView",
            "description": "",
            "description_tooltip": null,
            "layout": "IPY_MODEL_b97fa3ab56d4483fa07e911eac6c3f08",
            "placeholder": "​",
            "style": "IPY_MODEL_f6601405ab08417dbc7c41c25ed1a2be",
            "value": "100%"
          }
        },
        "a8d523856eac48e68b8bcaed8a56fcc7": {
          "model_module": "@jupyter-widgets/controls",
          "model_name": "FloatProgressModel",
          "model_module_version": "1.5.0",
          "state": {
            "_dom_classes": [],
            "_model_module": "@jupyter-widgets/controls",
            "_model_module_version": "1.5.0",
            "_model_name": "FloatProgressModel",
            "_view_count": null,
            "_view_module": "@jupyter-widgets/controls",
            "_view_module_version": "1.5.0",
            "_view_name": "ProgressView",
            "bar_style": "danger",
            "description": "",
            "description_tooltip": null,
            "layout": "IPY_MODEL_14a9500158be438fb551fb4cf81779d8",
            "max": 10,
            "min": 0,
            "orientation": "horizontal",
            "style": "IPY_MODEL_e6da7cc5adb6482385642c6f478057a5",
            "value": 10
          }
        },
        "233ed32971054edab49baa3be376a44c": {
          "model_module": "@jupyter-widgets/controls",
          "model_name": "HTMLModel",
          "model_module_version": "1.5.0",
          "state": {
            "_dom_classes": [],
            "_model_module": "@jupyter-widgets/controls",
            "_model_module_version": "1.5.0",
            "_model_name": "HTMLModel",
            "_view_count": null,
            "_view_module": "@jupyter-widgets/controls",
            "_view_module_version": "1.5.0",
            "_view_name": "HTMLView",
            "description": "",
            "description_tooltip": null,
            "layout": "IPY_MODEL_afc34f28e1824b41b880454f8e52a980",
            "placeholder": "​",
            "style": "IPY_MODEL_5069ff4168484a04bd6ba5413bbbcc2b",
            "value": " 10/10 [00:00&lt;00:00,  1.64it/s]"
          }
        },
        "9d602639c1874aa89901b5755efb56eb": {
          "model_module": "@jupyter-widgets/base",
          "model_name": "LayoutModel",
          "model_module_version": "1.2.0",
          "state": {
            "_model_module": "@jupyter-widgets/base",
            "_model_module_version": "1.2.0",
            "_model_name": "LayoutModel",
            "_view_count": null,
            "_view_module": "@jupyter-widgets/base",
            "_view_module_version": "1.2.0",
            "_view_name": "LayoutView",
            "align_content": null,
            "align_items": null,
            "align_self": null,
            "border": null,
            "bottom": null,
            "display": null,
            "flex": null,
            "flex_flow": null,
            "grid_area": null,
            "grid_auto_columns": null,
            "grid_auto_flow": null,
            "grid_auto_rows": null,
            "grid_column": null,
            "grid_gap": null,
            "grid_row": null,
            "grid_template_areas": null,
            "grid_template_columns": null,
            "grid_template_rows": null,
            "height": null,
            "justify_content": null,
            "justify_items": null,
            "left": null,
            "margin": null,
            "max_height": null,
            "max_width": null,
            "min_height": null,
            "min_width": null,
            "object_fit": null,
            "object_position": null,
            "order": null,
            "overflow": null,
            "overflow_x": null,
            "overflow_y": null,
            "padding": null,
            "right": null,
            "top": null,
            "visibility": null,
            "width": null
          }
        },
        "b97fa3ab56d4483fa07e911eac6c3f08": {
          "model_module": "@jupyter-widgets/base",
          "model_name": "LayoutModel",
          "model_module_version": "1.2.0",
          "state": {
            "_model_module": "@jupyter-widgets/base",
            "_model_module_version": "1.2.0",
            "_model_name": "LayoutModel",
            "_view_count": null,
            "_view_module": "@jupyter-widgets/base",
            "_view_module_version": "1.2.0",
            "_view_name": "LayoutView",
            "align_content": null,
            "align_items": null,
            "align_self": null,
            "border": null,
            "bottom": null,
            "display": null,
            "flex": null,
            "flex_flow": null,
            "grid_area": null,
            "grid_auto_columns": null,
            "grid_auto_flow": null,
            "grid_auto_rows": null,
            "grid_column": null,
            "grid_gap": null,
            "grid_row": null,
            "grid_template_areas": null,
            "grid_template_columns": null,
            "grid_template_rows": null,
            "height": null,
            "justify_content": null,
            "justify_items": null,
            "left": null,
            "margin": null,
            "max_height": null,
            "max_width": null,
            "min_height": null,
            "min_width": null,
            "object_fit": null,
            "object_position": null,
            "order": null,
            "overflow": null,
            "overflow_x": null,
            "overflow_y": null,
            "padding": null,
            "right": null,
            "top": null,
            "visibility": null,
            "width": null
          }
        },
        "f6601405ab08417dbc7c41c25ed1a2be": {
          "model_module": "@jupyter-widgets/controls",
          "model_name": "DescriptionStyleModel",
          "model_module_version": "1.5.0",
          "state": {
            "_model_module": "@jupyter-widgets/controls",
            "_model_module_version": "1.5.0",
            "_model_name": "DescriptionStyleModel",
            "_view_count": null,
            "_view_module": "@jupyter-widgets/base",
            "_view_module_version": "1.2.0",
            "_view_name": "StyleView",
            "description_width": ""
          }
        },
        "14a9500158be438fb551fb4cf81779d8": {
          "model_module": "@jupyter-widgets/base",
          "model_name": "LayoutModel",
          "model_module_version": "1.2.0",
          "state": {
            "_model_module": "@jupyter-widgets/base",
            "_model_module_version": "1.2.0",
            "_model_name": "LayoutModel",
            "_view_count": null,
            "_view_module": "@jupyter-widgets/base",
            "_view_module_version": "1.2.0",
            "_view_name": "LayoutView",
            "align_content": null,
            "align_items": null,
            "align_self": null,
            "border": null,
            "bottom": null,
            "display": null,
            "flex": null,
            "flex_flow": null,
            "grid_area": null,
            "grid_auto_columns": null,
            "grid_auto_flow": null,
            "grid_auto_rows": null,
            "grid_column": null,
            "grid_gap": null,
            "grid_row": null,
            "grid_template_areas": null,
            "grid_template_columns": null,
            "grid_template_rows": null,
            "height": null,
            "justify_content": null,
            "justify_items": null,
            "left": null,
            "margin": null,
            "max_height": null,
            "max_width": null,
            "min_height": null,
            "min_width": null,
            "object_fit": null,
            "object_position": null,
            "order": null,
            "overflow": null,
            "overflow_x": null,
            "overflow_y": null,
            "padding": null,
            "right": null,
            "top": null,
            "visibility": null,
            "width": null
          }
        },
        "e6da7cc5adb6482385642c6f478057a5": {
          "model_module": "@jupyter-widgets/controls",
          "model_name": "ProgressStyleModel",
          "model_module_version": "1.5.0",
          "state": {
            "_model_module": "@jupyter-widgets/controls",
            "_model_module_version": "1.5.0",
            "_model_name": "ProgressStyleModel",
            "_view_count": null,
            "_view_module": "@jupyter-widgets/base",
            "_view_module_version": "1.2.0",
            "_view_name": "StyleView",
            "bar_color": null,
            "description_width": ""
          }
        },
        "afc34f28e1824b41b880454f8e52a980": {
          "model_module": "@jupyter-widgets/base",
          "model_name": "LayoutModel",
          "model_module_version": "1.2.0",
          "state": {
            "_model_module": "@jupyter-widgets/base",
            "_model_module_version": "1.2.0",
            "_model_name": "LayoutModel",
            "_view_count": null,
            "_view_module": "@jupyter-widgets/base",
            "_view_module_version": "1.2.0",
            "_view_name": "LayoutView",
            "align_content": null,
            "align_items": null,
            "align_self": null,
            "border": null,
            "bottom": null,
            "display": null,
            "flex": null,
            "flex_flow": null,
            "grid_area": null,
            "grid_auto_columns": null,
            "grid_auto_flow": null,
            "grid_auto_rows": null,
            "grid_column": null,
            "grid_gap": null,
            "grid_row": null,
            "grid_template_areas": null,
            "grid_template_columns": null,
            "grid_template_rows": null,
            "height": null,
            "justify_content": null,
            "justify_items": null,
            "left": null,
            "margin": null,
            "max_height": null,
            "max_width": null,
            "min_height": null,
            "min_width": null,
            "object_fit": null,
            "object_position": null,
            "order": null,
            "overflow": null,
            "overflow_x": null,
            "overflow_y": null,
            "padding": null,
            "right": null,
            "top": null,
            "visibility": null,
            "width": null
          }
        },
        "5069ff4168484a04bd6ba5413bbbcc2b": {
          "model_module": "@jupyter-widgets/controls",
          "model_name": "DescriptionStyleModel",
          "model_module_version": "1.5.0",
          "state": {
            "_model_module": "@jupyter-widgets/controls",
            "_model_module_version": "1.5.0",
            "_model_name": "DescriptionStyleModel",
            "_view_count": null,
            "_view_module": "@jupyter-widgets/base",
            "_view_module_version": "1.2.0",
            "_view_name": "StyleView",
            "description_width": ""
          }
        }
      }
    }
  },
  "cells": [
    {
      "cell_type": "markdown",
      "metadata": {
        "id": "view-in-github",
        "colab_type": "text"
      },
      "source": [
        "<a href=\"https://colab.research.google.com/github/mratanusarkar/twitter-sentiment-analysis/blob/feature%2Ftwitter-api/Notebooks/Twitter_API.ipynb\" target=\"_parent\"><img src=\"https://colab.research.google.com/assets/colab-badge.svg\" alt=\"Open In Colab\"/></a>"
      ]
    },
    {
      "cell_type": "markdown",
      "source": [
        "# Twitter API"
      ],
      "metadata": {
        "id": "ZUQ1RktOEYfL"
      }
    },
    {
      "cell_type": "markdown",
      "source": [
        "Aim is to connect to twitter via API (v2) and use it to pull tweets based on filters and conditions such as:\n",
        "- hashtags (#)\n",
        "- userId or mentions (@)\n",
        "- keywords (string)\n",
        "\n",
        "Using the retrieved data, sort and order the tweets based on various parameters such as:\n",
        "- number of likes\n",
        "- number of comments\n",
        "- number of retweets\n",
        "- number of engagement or view count\n",
        "\n",
        "So that, the data can be used for sentiment analysis.\n",
        "\n",
        "In future (v2), we can also go in depth into each \"tweet thread\" and \"quote tweet (retweet)\" to find links and relations with each other, and get different analysis."
      ],
      "metadata": {
        "id": "bCyne9i_sw_k"
      }
    },
    {
      "cell_type": "markdown",
      "source": [
        "# Using \"twitter-api v2\"\n",
        "https://developer.twitter.com/en/docs/twitter-api"
      ],
      "metadata": {
        "id": "bz2aFdnFnZPZ"
      }
    },
    {
      "cell_type": "markdown",
      "source": [
        "## Import Packages"
      ],
      "metadata": {
        "id": "ZV1qc4LVuVwf"
      }
    },
    {
      "cell_type": "code",
      "source": [
        "import tweepy\n",
        "import configparser\n",
        "import pandas as pd\n",
        "from pprint import pprint"
      ],
      "metadata": {
        "id": "ylrtiFHdsBdL"
      },
      "execution_count": null,
      "outputs": []
    },
    {
      "cell_type": "code",
      "source": [],
      "metadata": {
        "id": "i2uSlQ7O0qbp"
      },
      "execution_count": null,
      "outputs": []
    },
    {
      "cell_type": "markdown",
      "source": [
        "## Input secrets and keys"
      ],
      "metadata": {
        "id": "z6U-a-i7uhr9"
      }
    },
    {
      "cell_type": "code",
      "execution_count": null,
      "metadata": {
        "id": "XYyy6mRaETP8"
      },
      "outputs": [],
      "source": [
        "# secrets and keys\n",
        "api_key = \"<API_KEY>\"\n",
        "api_key_secret = \"<API_KEY_SECRET>\"\n",
        "bearer_token = \"<BEARER_TOKEN>\"\n",
        "access_token = \"<ACCESS_TOKEN>\"\n",
        "access_token_secret = \"<ACCESS_TOKEN_SECRET>\""
      ]
    },
    {
      "cell_type": "code",
      "source": [],
      "metadata": {
        "id": "q9ccPtdqsM9d"
      },
      "execution_count": null,
      "outputs": []
    },
    {
      "cell_type": "markdown",
      "source": [
        "## Connect to Twitter API"
      ],
      "metadata": {
        "id": "Dx3Mtu7SurPL"
      }
    },
    {
      "cell_type": "code",
      "source": [
        "# set auth handler\n",
        "auth = tweepy.OAuthHandler(api_key, api_key_secret)\n",
        "auth.set_access_token(access_token, access_token_secret)\n",
        "\n",
        "# authenticate and get api handler\n",
        "api = tweepy.API(auth)"
      ],
      "metadata": {
        "id": "4S6fMjBcupS6"
      },
      "execution_count": null,
      "outputs": []
    },
    {
      "cell_type": "code",
      "source": [],
      "metadata": {
        "id": "k_hjnlptsNAM"
      },
      "execution_count": null,
      "outputs": []
    },
    {
      "cell_type": "markdown",
      "source": [
        "## Pull tweets using various methods"
      ],
      "metadata": {
        "id": "gajxWg6jwGt6"
      }
    },
    {
      "cell_type": "code",
      "source": [
        "# get public tweets from my timeline\n",
        "limit = 1\n",
        "\n",
        "tweets_from_public_timeline = api.home_timeline(count=limit)\n",
        "# pprint(tweets_from_public_timeline[0]._json)\n",
        "print(tweets_from_public_timeline[0].text)"
      ],
      "metadata": {
        "id": "3WnEwcKVsNC6",
        "outputId": "be351780-0a1c-4302-8093-babfec9b6e22",
        "colab": {
          "base_uri": "https://localhost:8080/"
        }
      },
      "execution_count": null,
      "outputs": [
        {
          "output_type": "stream",
          "name": "stdout",
          "text": [
            "A Review in @NatRevClinOncol summarizes the multidimensional cellular and molecular profiling technologies that hav… https://t.co/QVAh9RWj88\n"
          ]
        }
      ]
    },
    {
      "cell_type": "code",
      "source": [
        "# get tweets from specific user\n",
        "user = 'mratanusarkar'\n",
        "limit = 1\n",
        "\n",
        "tweets_from_user_timeline = api.user_timeline(screen_name=user, count=limit, tweet_mode='extended')\n",
        "# pprint(tweets_from_user_timeline[0]._json)\n",
        "print(tweets_from_user_timeline[0].full_text)"
      ],
      "metadata": {
        "id": "JUOFZhlN3R8v",
        "outputId": "cb9952db-944f-42e5-fcbe-b05414adde3f",
        "colab": {
          "base_uri": "https://localhost:8080/"
        }
      },
      "execution_count": null,
      "outputs": [
        {
          "output_type": "stream",
          "name": "stdout",
          "text": [
            "Good to see latest technology getting into chess as well!! https://t.co/8k9jQtSB1K\n"
          ]
        }
      ]
    },
    {
      "cell_type": "code",
      "source": [
        "# get tweets using keywords, #hashtags or @mentions"
      ],
      "metadata": {
        "id": "gb9I1zoN8JMD"
      },
      "execution_count": null,
      "outputs": []
    },
    {
      "cell_type": "code",
      "source": [
        "# get tweets from keywords\n",
        "keywords = \"physics\"\n",
        "limit = 1\n",
        "\n",
        "tweets_from_keywords = api.search(q=keywords, count=limit, tweet_mode='extended')\n",
        "# pprint(tweets_from_keywords[0]._json)\n",
        "print(tweets_from_keywords[0].full_text)"
      ],
      "metadata": {
        "id": "2FAZiT8C6lIA",
        "outputId": "e8e5b476-1803-4ea8-dd5c-d7aff7d5c0d8",
        "colab": {
          "base_uri": "https://localhost:8080/"
        }
      },
      "execution_count": null,
      "outputs": [
        {
          "output_type": "stream",
          "name": "stdout",
          "text": [
            "RT @1MASHMARTIN: What do you remember in Physics?\n"
          ]
        }
      ]
    },
    {
      "cell_type": "code",
      "source": [
        "# get tweets from #hashtags\n",
        "keywords = \"#physics\"\n",
        "limit = 1\n",
        "\n",
        "tweets_from_keywords = api.search(q=keywords, count=limit, tweet_mode='extended', include_entities=True)\n",
        "# pprint(tweets_from_keywords[0]._json)\n",
        "print(tweets_from_keywords[0].full_text)"
      ],
      "metadata": {
        "id": "IWVmq2Bt7peX",
        "outputId": "5ec7fd05-6daf-40f9-ec07-0ca954ef12b0",
        "colab": {
          "base_uri": "https://localhost:8080/"
        }
      },
      "execution_count": null,
      "outputs": [
        {
          "output_type": "stream",
          "name": "stdout",
          "text": [
            "❤️‍🔥❤️‍🔥❤️‍🔥💛🤎💖 \n",
            " #science #education #biology #physics #chemistry #technology https://t.co/NN1UHwxt2d\n"
          ]
        }
      ]
    },
    {
      "cell_type": "code",
      "source": [
        "# get tweets from @users or @mentions\n",
        "keywords = \"@3blue1brown\"\n",
        "limit = 1\n",
        "\n",
        "tweets_from_keywords = api.search(q=keywords, count=limit, tweet_mode='extended', include_entities=True)\n",
        "# pprint(tweets_from_keywords[0]._json)\n",
        "print(tweets_from_keywords[0].full_text)"
      ],
      "metadata": {
        "id": "Lw5RujBz8GY4",
        "outputId": "cf34340e-4576-4b8b-8717-f99f1b4455d4",
        "colab": {
          "base_uri": "https://localhost:8080/"
        }
      },
      "execution_count": null,
      "outputs": [
        {
          "output_type": "stream",
          "name": "stdout",
          "text": [
            "RT @michele_geraci: Domanda: Come fanno le reti neuronali e Intelligenza Artificiale ad imparare? \n",
            "\n",
            "Risposta: Gradient Descent\n",
            "\n",
            "Secondo vid…\n"
          ]
        }
      ]
    },
    {
      "cell_type": "code",
      "source": [
        "# combination of all\n",
        "query = \"#math OR #mathematics AND @3blue1brown\"\n",
        "limit = 1\n",
        "\n",
        "tweets_from_keywords = api.search(q=query, count=limit, tweet_mode='extended', include_entities=True)\n",
        "# pprint(tweets_from_keywords[0]._json)\n",
        "print(tweets_from_keywords[0].full_text)"
      ],
      "metadata": {
        "id": "VcbagUgF8cZq",
        "outputId": "f86e87c4-aaca-4005-e54e-4b6e8ca4b6aa",
        "colab": {
          "base_uri": "https://localhost:8080/"
        }
      },
      "execution_count": null,
      "outputs": [
        {
          "output_type": "stream",
          "name": "stdout",
          "text": [
            "RT @TheGaloisCxn: I’d love some outside opinion on or verification of this proof! 🧐 \n",
            "\n",
            "Has anyone in the #Mathematics #YouTube community see…\n"
          ]
        }
      ]
    },
    {
      "cell_type": "code",
      "source": [],
      "metadata": {
        "id": "64bRVI-j8cdE"
      },
      "execution_count": null,
      "outputs": []
    },
    {
      "cell_type": "code",
      "source": [
        "# use cursor to avoid the API cap\n",
        "query = \"#math OR #mathematics AND @3blue1brown OR physics\"\n",
        "limit = 300\n",
        "\n",
        "tweets = tweepy.Cursor(api.search, q=query, count=100, tweet_mode='extended').items(limit)\n",
        "print(tweets)"
      ],
      "metadata": {
        "id": "SyU3ShDW3R_Y",
        "outputId": "dfcea488-4426-418d-b847-06884c02c1c4",
        "colab": {
          "base_uri": "https://localhost:8080/"
        }
      },
      "execution_count": null,
      "outputs": [
        {
          "output_type": "stream",
          "name": "stdout",
          "text": [
            "<tweepy.cursor.ItemIterator object at 0x7fd11bd33e50>\n"
          ]
        }
      ]
    },
    {
      "cell_type": "code",
      "source": [
        "# print(list(tweets)[0].full_text)\n",
        "# it seems that we can access the iterable only once!! \n",
        "# so better convert it to a df"
      ],
      "metadata": {
        "id": "wAUjsA563SHC"
      },
      "execution_count": null,
      "outputs": []
    },
    {
      "cell_type": "code",
      "source": [
        "# print all tweets\n",
        "# for i, tweet in list(tweets):\n",
        "#     print(i, \":\", tweet.full_text)"
      ],
      "metadata": {
        "id": "ddMkUDwKsNGD"
      },
      "execution_count": null,
      "outputs": []
    },
    {
      "cell_type": "code",
      "source": [],
      "metadata": {
        "id": "9-pvBRaP3Z6N"
      },
      "execution_count": null,
      "outputs": []
    },
    {
      "cell_type": "markdown",
      "source": [
        "## Save the data in a DataFrame"
      ],
      "metadata": {
        "id": "rzoFczQh0t9r"
      }
    },
    {
      "cell_type": "code",
      "source": [
        "# define the column names\n",
        "columns = [\"Time\", \"User\", \"Tweet\"]\n",
        "data = []"
      ],
      "metadata": {
        "id": "k4Uht9v_04FF"
      },
      "execution_count": null,
      "outputs": []
    },
    {
      "cell_type": "code",
      "source": [
        "for tweet in tweets:\n",
        "    data.append([tweet.created_at, tweet.user.screen_name, tweet.full_text])\n",
        "dataframe = pd.DataFrame(data, columns=columns)\n",
        "dataframe"
      ],
      "metadata": {
        "id": "DuuuYZEA1PBm",
        "outputId": "7ce23269-0283-479b-b6c6-795903c930c4",
        "colab": {
          "base_uri": "https://localhost:8080/",
          "height": 423
        }
      },
      "execution_count": null,
      "outputs": [
        {
          "output_type": "execute_result",
          "data": {
            "text/plain": [
              "                   Time            User  \\\n",
              "0   2023-02-07 14:13:40      Editordon2   \n",
              "1   2023-02-07 14:05:16   russellmanthy   \n",
              "2   2023-02-07 14:04:18  Earthworksjobs   \n",
              "3   2023-02-07 14:03:47       YosleidiN   \n",
              "4   2023-02-07 14:02:09      NewLeibniz   \n",
              "..                  ...             ...   \n",
              "295 2023-02-06 06:07:54   Legitwriters2   \n",
              "296 2023-02-06 06:07:52   Legitwriters2   \n",
              "297 2023-02-06 06:07:28   Legitwriters2   \n",
              "298 2023-02-06 06:07:19   Legitwriters2   \n",
              "299 2023-02-06 06:07:19   Legitwriters2   \n",
              "\n",
              "                                                 Tweet  \n",
              "0    Don't struggle, we are here to help\\n#book rev...  \n",
              "1    Richard Feynman’s path integral is both a powe...  \n",
              "2    Postdoc - Storyline scenarios of extreme event...  \n",
              "3    RT @dment37: d²=a²+b²+c² (Pythagoras in 3D): p...  \n",
              "4    #math #physics I can't read music, but I insta...  \n",
              "..                                                 ...  \n",
              "295  Experts available and reliable to ace academic...  \n",
              "296  Experts available and reliable to ace academic...  \n",
              "297  Experts available and reliable to ace academic...  \n",
              "298  Experts available and reliable to ace academic...  \n",
              "299  Experts available and reliable to ace academic...  \n",
              "\n",
              "[300 rows x 3 columns]"
            ],
            "text/html": [
              "\n",
              "  <div id=\"df-82064611-0d60-458c-aa89-c667107c4a97\">\n",
              "    <div class=\"colab-df-container\">\n",
              "      <div>\n",
              "<style scoped>\n",
              "    .dataframe tbody tr th:only-of-type {\n",
              "        vertical-align: middle;\n",
              "    }\n",
              "\n",
              "    .dataframe tbody tr th {\n",
              "        vertical-align: top;\n",
              "    }\n",
              "\n",
              "    .dataframe thead th {\n",
              "        text-align: right;\n",
              "    }\n",
              "</style>\n",
              "<table border=\"1\" class=\"dataframe\">\n",
              "  <thead>\n",
              "    <tr style=\"text-align: right;\">\n",
              "      <th></th>\n",
              "      <th>Time</th>\n",
              "      <th>User</th>\n",
              "      <th>Tweet</th>\n",
              "    </tr>\n",
              "  </thead>\n",
              "  <tbody>\n",
              "    <tr>\n",
              "      <th>0</th>\n",
              "      <td>2023-02-07 14:13:40</td>\n",
              "      <td>Editordon2</td>\n",
              "      <td>Don't struggle, we are here to help\\n#book rev...</td>\n",
              "    </tr>\n",
              "    <tr>\n",
              "      <th>1</th>\n",
              "      <td>2023-02-07 14:05:16</td>\n",
              "      <td>russellmanthy</td>\n",
              "      <td>Richard Feynman’s path integral is both a powe...</td>\n",
              "    </tr>\n",
              "    <tr>\n",
              "      <th>2</th>\n",
              "      <td>2023-02-07 14:04:18</td>\n",
              "      <td>Earthworksjobs</td>\n",
              "      <td>Postdoc - Storyline scenarios of extreme event...</td>\n",
              "    </tr>\n",
              "    <tr>\n",
              "      <th>3</th>\n",
              "      <td>2023-02-07 14:03:47</td>\n",
              "      <td>YosleidiN</td>\n",
              "      <td>RT @dment37: d²=a²+b²+c² (Pythagoras in 3D): p...</td>\n",
              "    </tr>\n",
              "    <tr>\n",
              "      <th>4</th>\n",
              "      <td>2023-02-07 14:02:09</td>\n",
              "      <td>NewLeibniz</td>\n",
              "      <td>#math #physics I can't read music, but I insta...</td>\n",
              "    </tr>\n",
              "    <tr>\n",
              "      <th>...</th>\n",
              "      <td>...</td>\n",
              "      <td>...</td>\n",
              "      <td>...</td>\n",
              "    </tr>\n",
              "    <tr>\n",
              "      <th>295</th>\n",
              "      <td>2023-02-06 06:07:54</td>\n",
              "      <td>Legitwriters2</td>\n",
              "      <td>Experts available and reliable to ace academic...</td>\n",
              "    </tr>\n",
              "    <tr>\n",
              "      <th>296</th>\n",
              "      <td>2023-02-06 06:07:52</td>\n",
              "      <td>Legitwriters2</td>\n",
              "      <td>Experts available and reliable to ace academic...</td>\n",
              "    </tr>\n",
              "    <tr>\n",
              "      <th>297</th>\n",
              "      <td>2023-02-06 06:07:28</td>\n",
              "      <td>Legitwriters2</td>\n",
              "      <td>Experts available and reliable to ace academic...</td>\n",
              "    </tr>\n",
              "    <tr>\n",
              "      <th>298</th>\n",
              "      <td>2023-02-06 06:07:19</td>\n",
              "      <td>Legitwriters2</td>\n",
              "      <td>Experts available and reliable to ace academic...</td>\n",
              "    </tr>\n",
              "    <tr>\n",
              "      <th>299</th>\n",
              "      <td>2023-02-06 06:07:19</td>\n",
              "      <td>Legitwriters2</td>\n",
              "      <td>Experts available and reliable to ace academic...</td>\n",
              "    </tr>\n",
              "  </tbody>\n",
              "</table>\n",
              "<p>300 rows × 3 columns</p>\n",
              "</div>\n",
              "      <button class=\"colab-df-convert\" onclick=\"convertToInteractive('df-82064611-0d60-458c-aa89-c667107c4a97')\"\n",
              "              title=\"Convert this dataframe to an interactive table.\"\n",
              "              style=\"display:none;\">\n",
              "        \n",
              "  <svg xmlns=\"http://www.w3.org/2000/svg\" height=\"24px\"viewBox=\"0 0 24 24\"\n",
              "       width=\"24px\">\n",
              "    <path d=\"M0 0h24v24H0V0z\" fill=\"none\"/>\n",
              "    <path d=\"M18.56 5.44l.94 2.06.94-2.06 2.06-.94-2.06-.94-.94-2.06-.94 2.06-2.06.94zm-11 1L8.5 8.5l.94-2.06 2.06-.94-2.06-.94L8.5 2.5l-.94 2.06-2.06.94zm10 10l.94 2.06.94-2.06 2.06-.94-2.06-.94-.94-2.06-.94 2.06-2.06.94z\"/><path d=\"M17.41 7.96l-1.37-1.37c-.4-.4-.92-.59-1.43-.59-.52 0-1.04.2-1.43.59L10.3 9.45l-7.72 7.72c-.78.78-.78 2.05 0 2.83L4 21.41c.39.39.9.59 1.41.59.51 0 1.02-.2 1.41-.59l7.78-7.78 2.81-2.81c.8-.78.8-2.07 0-2.86zM5.41 20L4 18.59l7.72-7.72 1.47 1.35L5.41 20z\"/>\n",
              "  </svg>\n",
              "      </button>\n",
              "      \n",
              "  <style>\n",
              "    .colab-df-container {\n",
              "      display:flex;\n",
              "      flex-wrap:wrap;\n",
              "      gap: 12px;\n",
              "    }\n",
              "\n",
              "    .colab-df-convert {\n",
              "      background-color: #E8F0FE;\n",
              "      border: none;\n",
              "      border-radius: 50%;\n",
              "      cursor: pointer;\n",
              "      display: none;\n",
              "      fill: #1967D2;\n",
              "      height: 32px;\n",
              "      padding: 0 0 0 0;\n",
              "      width: 32px;\n",
              "    }\n",
              "\n",
              "    .colab-df-convert:hover {\n",
              "      background-color: #E2EBFA;\n",
              "      box-shadow: 0px 1px 2px rgba(60, 64, 67, 0.3), 0px 1px 3px 1px rgba(60, 64, 67, 0.15);\n",
              "      fill: #174EA6;\n",
              "    }\n",
              "\n",
              "    [theme=dark] .colab-df-convert {\n",
              "      background-color: #3B4455;\n",
              "      fill: #D2E3FC;\n",
              "    }\n",
              "\n",
              "    [theme=dark] .colab-df-convert:hover {\n",
              "      background-color: #434B5C;\n",
              "      box-shadow: 0px 1px 3px 1px rgba(0, 0, 0, 0.15);\n",
              "      filter: drop-shadow(0px 1px 2px rgba(0, 0, 0, 0.3));\n",
              "      fill: #FFFFFF;\n",
              "    }\n",
              "  </style>\n",
              "\n",
              "      <script>\n",
              "        const buttonEl =\n",
              "          document.querySelector('#df-82064611-0d60-458c-aa89-c667107c4a97 button.colab-df-convert');\n",
              "        buttonEl.style.display =\n",
              "          google.colab.kernel.accessAllowed ? 'block' : 'none';\n",
              "\n",
              "        async function convertToInteractive(key) {\n",
              "          const element = document.querySelector('#df-82064611-0d60-458c-aa89-c667107c4a97');\n",
              "          const dataTable =\n",
              "            await google.colab.kernel.invokeFunction('convertToInteractive',\n",
              "                                                     [key], {});\n",
              "          if (!dataTable) return;\n",
              "\n",
              "          const docLinkHtml = 'Like what you see? Visit the ' +\n",
              "            '<a target=\"_blank\" href=https://colab.research.google.com/notebooks/data_table.ipynb>data table notebook</a>'\n",
              "            + ' to learn more about interactive tables.';\n",
              "          element.innerHTML = '';\n",
              "          dataTable['output_type'] = 'display_data';\n",
              "          await google.colab.output.renderOutput(dataTable, element);\n",
              "          const docLink = document.createElement('div');\n",
              "          docLink.innerHTML = docLinkHtml;\n",
              "          element.appendChild(docLink);\n",
              "        }\n",
              "      </script>\n",
              "    </div>\n",
              "  </div>\n",
              "  "
            ]
          },
          "metadata": {},
          "execution_count": 17
        }
      ]
    },
    {
      "cell_type": "markdown",
      "source": [
        "## Export"
      ],
      "metadata": {
        "id": "dDYjAzffNjrS"
      }
    },
    {
      "cell_type": "code",
      "source": [
        "# export data\n",
        "# dataframe.to_json(\"tweets.json\")\n",
        "# dataframe.to_csv(\"tweets.csv\")"
      ],
      "metadata": {
        "id": "REpDCmhr2Pyv"
      },
      "execution_count": null,
      "outputs": []
    },
    {
      "cell_type": "code",
      "source": [],
      "metadata": {
        "id": "3Z92u9Da2e66"
      },
      "execution_count": null,
      "outputs": []
    },
    {
      "cell_type": "markdown",
      "source": [
        "# Using \"snscrape\"\n",
        "https://github.com/JustAnotherArchivist/snscrape"
      ],
      "metadata": {
        "id": "43g2b_Zgn0JT"
      }
    },
    {
      "cell_type": "markdown",
      "source": [
        "## Import Packages"
      ],
      "metadata": {
        "id": "-xhXIbeItbAw"
      }
    },
    {
      "cell_type": "code",
      "source": [
        "!pip install snscrape"
      ],
      "metadata": {
        "id": "JciQt7xqt9pC",
        "outputId": "07060ecd-5d9f-4727-a756-ea52696d6854",
        "colab": {
          "base_uri": "https://localhost:8080/"
        }
      },
      "execution_count": 2,
      "outputs": [
        {
          "output_type": "stream",
          "name": "stdout",
          "text": [
            "Looking in indexes: https://pypi.org/simple, https://us-python.pkg.dev/colab-wheels/public/simple/\n",
            "Collecting snscrape\n",
            "  Downloading snscrape-0.5.0.20230113-py3-none-any.whl (69 kB)\n",
            "\u001b[2K     \u001b[90m━━━━━━━━━━━━━━━━━━━━━━━━━━━━━━━━━━━━━━━━\u001b[0m \u001b[32m69.2/69.2 KB\u001b[0m \u001b[31m4.7 MB/s\u001b[0m eta \u001b[36m0:00:00\u001b[0m\n",
            "\u001b[?25hRequirement already satisfied: requests[socks] in /usr/local/lib/python3.8/dist-packages (from snscrape) (2.25.1)\n",
            "Requirement already satisfied: beautifulsoup4 in /usr/local/lib/python3.8/dist-packages (from snscrape) (4.6.3)\n",
            "Requirement already satisfied: filelock in /usr/local/lib/python3.8/dist-packages (from snscrape) (3.9.0)\n",
            "Requirement already satisfied: pytz in /usr/local/lib/python3.8/dist-packages (from snscrape) (2022.7.1)\n",
            "Requirement already satisfied: lxml in /usr/local/lib/python3.8/dist-packages (from snscrape) (4.9.2)\n",
            "Requirement already satisfied: chardet<5,>=3.0.2 in /usr/local/lib/python3.8/dist-packages (from requests[socks]->snscrape) (4.0.0)\n",
            "Requirement already satisfied: idna<3,>=2.5 in /usr/local/lib/python3.8/dist-packages (from requests[socks]->snscrape) (2.10)\n",
            "Requirement already satisfied: urllib3<1.27,>=1.21.1 in /usr/local/lib/python3.8/dist-packages (from requests[socks]->snscrape) (1.24.3)\n",
            "Requirement already satisfied: certifi>=2017.4.17 in /usr/local/lib/python3.8/dist-packages (from requests[socks]->snscrape) (2022.12.7)\n",
            "Requirement already satisfied: PySocks!=1.5.7,>=1.5.6 in /usr/local/lib/python3.8/dist-packages (from requests[socks]->snscrape) (1.7.1)\n",
            "Installing collected packages: snscrape\n",
            "Successfully installed snscrape-0.5.0.20230113\n"
          ]
        }
      ]
    },
    {
      "cell_type": "code",
      "source": [
        "import snscrape.modules.twitter as sntwitter\n",
        "import pandas as pd\n",
        "from pprint import pprint\n",
        "from tqdm.notebook import tqdm\n",
        "import re"
      ],
      "metadata": {
        "id": "JmxciAPhoLTV"
      },
      "execution_count": 78,
      "outputs": []
    },
    {
      "cell_type": "code",
      "source": [],
      "metadata": {
        "id": "gblQArVfoL7D"
      },
      "execution_count": null,
      "outputs": []
    },
    {
      "cell_type": "markdown",
      "source": [
        "## Pull tweets using various methods"
      ],
      "metadata": {
        "id": "WRFXzyH9uLP3"
      }
    },
    {
      "cell_type": "code",
      "source": [
        "# list of available scrapers\n",
        "[fn_names for fn_names in sntwitter.__all__ if \"Scraper\" in fn_names]"
      ],
      "metadata": {
        "id": "HA9SiF3KAVtl",
        "outputId": "7e983c4d-9184-4dcc-e95f-fe2ff29edfa1",
        "colab": {
          "base_uri": "https://localhost:8080/"
        }
      },
      "execution_count": 60,
      "outputs": [
        {
          "output_type": "execute_result",
          "data": {
            "text/plain": [
              "['TwitterSearchScraper',\n",
              " 'TwitterUserScraper',\n",
              " 'TwitterProfileScraper',\n",
              " 'TwitterHashtagScraper',\n",
              " 'TwitterTweetScraperMode',\n",
              " 'TwitterTweetScraper',\n",
              " 'TwitterListPostsScraper',\n",
              " 'TwitterTrendsScraper']"
            ]
          },
          "metadata": {},
          "execution_count": 60
        }
      ]
    },
    {
      "cell_type": "code",
      "source": [
        "# using Search Scraper\n",
        "query = \"india\"\n",
        "twitter_search = sntwitter.TwitterSearchScraper(query).get_items()\n",
        "tweet = next(twitter_search)\n",
        "print(vars(tweet))"
      ],
      "metadata": {
        "id": "I8mtUUeooL9N",
        "outputId": "3df4312a-6c4d-462b-b033-1c6c0b51084c",
        "colab": {
          "base_uri": "https://localhost:8080/"
        }
      },
      "execution_count": 46,
      "outputs": [
        {
          "output_type": "stream",
          "name": "stdout",
          "text": [
            "{'url': 'https://twitter.com/VenubInfra/status/1623575416450748416', 'date': datetime.datetime(2023, 2, 9, 6, 51, 58, tzinfo=datetime.timezone.utc), 'rawContent': 'Just posted a photo @ Nagpur, Maharashtra, India https://t.co/NpgbQnWUDx', 'renderedContent': 'Just posted a photo @ Nagpur, Maharashtra, India instagram.com/p/CobqeTEoFaF/…', 'id': 1623575416450748416, 'user': User(username='VenubInfra', id=1604334593137528832, displayname='Venub Infra', rawDescription='Construction🏗️   Interior🏠   Renovation🏚️', renderedDescription='Construction🏗️   Interior🏠   Renovation🏚️', descriptionLinks=None, verified=False, created=datetime.datetime(2022, 12, 18, 4, 37, 29, tzinfo=datetime.timezone.utc), followersCount=20, friendsCount=169, statusesCount=112, favouritesCount=0, listedCount=0, mediaCount=13, location='Nagpur, India', protected=False, link=None, profileImageUrl='https://pbs.twimg.com/profile_images/1604335741542158336/Ttw4-fhK_normal.jpg', profileBannerUrl=None, label=None), 'replyCount': 0, 'retweetCount': 0, 'likeCount': 0, 'quoteCount': 0, 'conversationId': 1623575416450748416, 'lang': 'tl', 'source': '<a href=\"http://instagram.com\" rel=\"nofollow\">Instagram</a>', 'sourceUrl': 'http://instagram.com', 'sourceLabel': 'Instagram', 'links': [TextLink(text='instagram.com/p/CobqeTEoFaF/…', url='https://www.instagram.com/p/CobqeTEoFaF/?igshid=YTgzYjQ4ZTY=', tcourl='https://t.co/NpgbQnWUDx', indices=(49, 72))], 'media': None, 'retweetedTweet': None, 'quotedTweet': None, 'inReplyToTweetId': None, 'inReplyToUser': None, 'mentionedUsers': None, 'coordinates': Coordinates(longitude=79.0557994, latitude=21.0427707), 'place': Place(id='2fb8ef9c51c8d547', fullName='Nagpur, India', name='Nagpur', type='city', country='India', countryCode='IN'), 'hashtags': None, 'cashtags': None, 'card': SummaryCard(title='Venub Infra (@venubinfra) • Instagram photo', url='https://www.instagram.com/p/CobqeTEoFaF/?igshid=YTgzYjQ4ZTY=', description=None, thumbnailUrl='https://pbs.twimg.com/card_img/1623575418031972352/2VIN1nsm?format=jpg&name=orig', siteUser=User(username='instagram', id=180505807, displayname='Instagram', rawDescription=\"Discover what's next on Instagram 🔎✨\", renderedDescription=\"Discover what's next on Instagram 🔎✨\", descriptionLinks=None, verified=True, created=datetime.datetime(2010, 8, 19, 20, 11, 11, tzinfo=datetime.timezone.utc), followersCount=33778016, friendsCount=252, statusesCount=15627, favouritesCount=1564, listedCount=31700, mediaCount=4360, location='', protected=False, link=TextLink(text='help.instagram.com', url='http://help.instagram.com', tcourl='https://t.co/tydS4e9aHQ', indices=(0, 23)), profileImageUrl='https://pbs.twimg.com/profile_images/1526231349354303489/3Bg-2ZsT_normal.jpg', profileBannerUrl='https://pbs.twimg.com/profile_banners/180505807/1654964234', label=None), creatorUser=None), 'viewCount': None, 'vibe': None}\n"
          ]
        }
      ]
    },
    {
      "cell_type": "code",
      "source": [
        "# using User Scraper\n",
        "user = \"mratanusarkar\"\n",
        "twitter_search = sntwitter.TwitterUserScraper(user).get_items()\n",
        "tweet = next(twitter_search)\n",
        "print(vars(tweet))"
      ],
      "metadata": {
        "id": "MdEyaoos9je6",
        "outputId": "4e9c83b4-fd17-4031-ee6b-4d4e64bd8085",
        "colab": {
          "base_uri": "https://localhost:8080/"
        }
      },
      "execution_count": 50,
      "outputs": [
        {
          "output_type": "stream",
          "name": "stdout",
          "text": [
            "{'url': 'https://twitter.com/mratanusarkar/status/1623329586602995712', 'date': datetime.datetime(2023, 2, 8, 14, 35, 8, tzinfo=datetime.timezone.utc), 'rawContent': \"Most important ingredients in life are:\\n- Love\\n- Friendship\\n- Family\\n\\nrest all comes later...\\n\\nOf what use is everything else when there is no happiness? Friends, Family and Love in life brings unparalleled happiness that even heaven can't find! I bet!\", 'renderedContent': \"Most important ingredients in life are:\\n- Love\\n- Friendship\\n- Family\\n\\nrest all comes later...\\n\\nOf what use is everything else when there is no happiness? Friends, Family and Love in life brings unparalleled happiness that even heaven can't find! I bet!\", 'id': 1623329586602995712, 'user': User(username='mratanusarkar', id=3060824998, displayname='Atanu Sarkar', rawDescription='\"An engineer by profession, Physics lover by passion\"\\n\\nEmbedded Systems | IoT | Robotics | Machine Learning | Deep Learning\\n\\n🏫 Adamite\\n🎓 KIITian\\n🏢 Boschler', renderedDescription='\"An engineer by profession, Physics lover by passion\"\\n\\nEmbedded Systems | IoT | Robotics | Machine Learning | Deep Learning\\n\\n🏫 Adamite\\n🎓 KIITian\\n🏢 Boschler', descriptionLinks=None, verified=False, created=datetime.datetime(2015, 2, 25, 4, 34, 53, tzinfo=datetime.timezone.utc), followersCount=42, friendsCount=597, statusesCount=1137, favouritesCount=1976, listedCount=0, mediaCount=46, location='Kolkata, India.', protected=False, link=TextLink(text='github.com/mratanusarkar', url='https://github.com/mratanusarkar', tcourl='https://t.co/8PeZTYYAWJ', indices=(0, 23)), profileImageUrl='https://pbs.twimg.com/profile_images/1319690880991678464/6NmztV8g_normal.jpg', profileBannerUrl='https://pbs.twimg.com/profile_banners/3060824998/1425231939', label=None), 'replyCount': 0, 'retweetCount': 0, 'likeCount': 0, 'quoteCount': 0, 'conversationId': 1623329586602995712, 'lang': 'en', 'source': '<a href=\"http://twitter.com/download/android\" rel=\"nofollow\">Twitter for Android</a>', 'sourceUrl': 'http://twitter.com/download/android', 'sourceLabel': 'Twitter for Android', 'links': None, 'media': None, 'retweetedTweet': None, 'quotedTweet': None, 'inReplyToTweetId': None, 'inReplyToUser': None, 'mentionedUsers': None, 'coordinates': None, 'place': None, 'hashtags': None, 'cashtags': None, 'card': None, 'viewCount': 7, 'vibe': None}\n"
          ]
        }
      ]
    },
    {
      "cell_type": "code",
      "source": [
        "# using Profile Scraper\n",
        "user = \"mratanusarkar\"\n",
        "twitter_search = sntwitter.TwitterProfileScraper(user).get_items()\n",
        "tweet = next(twitter_search)\n",
        "print(vars(tweet))"
      ],
      "metadata": {
        "id": "4Icmr7FZ-D4c",
        "outputId": "ccee0cd4-6f6a-49ed-bc3d-6a6d3d81799c",
        "colab": {
          "base_uri": "https://localhost:8080/"
        }
      },
      "execution_count": 61,
      "outputs": [
        {
          "output_type": "stream",
          "name": "stdout",
          "text": [
            "{'url': 'https://twitter.com/mratanusarkar/status/1508072930886168578', 'date': datetime.datetime(2022, 3, 27, 13, 26, 20, tzinfo=datetime.timezone.utc), 'rawContent': 'check out this cli progress bar npm module I created to track and monitor any long running job/process in a loop and alert the user with sound notification when the task ends!\\n\\nlink: https://t.co/DSdNTkLo9Z\\n\\n#npm #JavaScript #NodeJS https://t.co/ePVC2yLm0J', 'renderedContent': 'check out this cli progress bar npm module I created to track and monitor any long running job/process in a loop and alert the user with sound notification when the task ends!\\n\\nlink: npmjs.com/package/progre…\\n\\n#npm #JavaScript #NodeJS https://t.co/ePVC2yLm0J', 'id': 1508072930886168578, 'user': User(username='mratanusarkar', id=3060824998, displayname='Atanu Sarkar', rawDescription='\"An engineer by profession, Physics lover by passion\"\\n\\nEmbedded Systems | IoT | Robotics | Machine Learning | Deep Learning\\n\\n🏫 Adamite\\n🎓 KIITian\\n🏢 Boschler', renderedDescription='\"An engineer by profession, Physics lover by passion\"\\n\\nEmbedded Systems | IoT | Robotics | Machine Learning | Deep Learning\\n\\n🏫 Adamite\\n🎓 KIITian\\n🏢 Boschler', descriptionLinks=None, verified=False, created=datetime.datetime(2015, 2, 25, 4, 34, 53, tzinfo=datetime.timezone.utc), followersCount=42, friendsCount=597, statusesCount=1137, favouritesCount=1976, listedCount=0, mediaCount=46, location='Kolkata, India.', protected=False, link=TextLink(text='github.com/mratanusarkar', url='https://github.com/mratanusarkar', tcourl='https://t.co/8PeZTYYAWJ', indices=(0, 23)), profileImageUrl='https://pbs.twimg.com/profile_images/1319690880991678464/6NmztV8g_normal.jpg', profileBannerUrl='https://pbs.twimg.com/profile_banners/3060824998/1425231939', label=None), 'replyCount': 0, 'retweetCount': 2, 'likeCount': 1, 'quoteCount': 1, 'conversationId': 1508072930886168578, 'lang': 'en', 'source': None, 'sourceUrl': None, 'sourceLabel': None, 'links': [TextLink(text='npmjs.com/package/progre…', url='https://www.npmjs.com/package/progress-bar-cli', tcourl='https://t.co/DSdNTkLo9Z', indices=(183, 206))], 'media': [Gif(thumbnailUrl='https://pbs.twimg.com/tweet_video_thumb/FO2-x0gacAQozvg.jpg', variants=[VideoVariant(url='https://video.twimg.com/tweet_video/FO2-x0gacAQozvg.mp4', contentType='video/mp4', bitrate=0)], altText=None)], 'retweetedTweet': None, 'quotedTweet': None, 'inReplyToTweetId': None, 'inReplyToUser': None, 'mentionedUsers': None, 'coordinates': None, 'place': None, 'hashtags': ['npm', 'JavaScript', 'NodeJS'], 'cashtags': None, 'card': None, 'viewCount': None, 'vibe': None}\n"
          ]
        }
      ]
    },
    {
      "cell_type": "code",
      "source": [
        "# using Hashtag Scraper\n",
        "hashtag = \"india\"\n",
        "twitter_search = sntwitter.TwitterHashtagScraper(hashtag).get_items()\n",
        "tweet = next(twitter_search)\n",
        "print(vars(tweet))"
      ],
      "metadata": {
        "id": "OibQa_A7DIgV",
        "outputId": "5a13d2aa-3574-4ddb-87c9-d3c9ec0d207b",
        "colab": {
          "base_uri": "https://localhost:8080/"
        }
      },
      "execution_count": 63,
      "outputs": [
        {
          "output_type": "stream",
          "name": "stdout",
          "text": [
            "{'url': 'https://twitter.com/kalkineau/status/1623583224848060419', 'date': datetime.datetime(2023, 2, 9, 7, 23, tzinfo=datetime.timezone.utc), 'rawContent': '#India is considering extending a #ban on #wheat exports  \\nhttps://t.co/MxKBBRXnM2', 'renderedContent': '#India is considering extending a #ban on #wheat exports  \\nzcu.io/VMbr', 'id': 1623583224848060419, 'user': User(username='kalkineau', id=1005789907, displayname='Kalkine Media Australia', rawDescription='Stay Apprised, Invest Wise with Kalkine', renderedDescription='Stay Apprised, Invest Wise with Kalkine', descriptionLinks=None, verified=True, created=datetime.datetime(2012, 12, 12, 7, 13, 56, tzinfo=datetime.timezone.utc), followersCount=3770, friendsCount=4601, statusesCount=65660, favouritesCount=9093, listedCount=140, mediaCount=15806, location='Sydney, Australia', protected=False, link=TextLink(text='kalkinemedia.com/au', url='https://kalkinemedia.com/au', tcourl='https://t.co/LqanNERjAa', indices=(0, 23)), profileImageUrl='https://pbs.twimg.com/profile_images/1478178731717918722/SoVDCPsh_normal.jpg', profileBannerUrl='https://pbs.twimg.com/profile_banners/1005789907/1664265375', label=None), 'replyCount': 0, 'retweetCount': 0, 'likeCount': 0, 'quoteCount': 0, 'conversationId': 1623583224848060419, 'lang': 'en', 'source': '<a href=\"https://social.zoho.com\" rel=\"nofollow\">Zoho Social</a>', 'sourceUrl': 'https://social.zoho.com', 'sourceLabel': 'Zoho Social', 'links': [TextLink(text='zcu.io/VMbr', url='https://zcu.io/VMbr', tcourl='https://t.co/MxKBBRXnM2', indices=(59, 82))], 'media': None, 'retweetedTweet': None, 'quotedTweet': None, 'inReplyToTweetId': None, 'inReplyToUser': None, 'mentionedUsers': None, 'coordinates': None, 'place': None, 'hashtags': ['India', 'ban', 'wheat'], 'cashtags': None, 'card': None, 'viewCount': None, 'vibe': None}\n"
          ]
        }
      ]
    },
    {
      "cell_type": "code",
      "source": [
        "# using Tweet Scraper\n",
        "tweetId = \"1623329586602995712\"\n",
        "twitter_search = sntwitter.TwitterTweetScraper(tweetId).get_items()\n",
        "tweet = next(twitter_search)\n",
        "print(vars(tweet))"
      ],
      "metadata": {
        "id": "dVamMnq_-pDB",
        "outputId": "c1006344-518a-44bb-e404-b96dca4f78af",
        "colab": {
          "base_uri": "https://localhost:8080/"
        }
      },
      "execution_count": 51,
      "outputs": [
        {
          "output_type": "stream",
          "name": "stdout",
          "text": [
            "{'url': 'https://twitter.com/mratanusarkar/status/1623329586602995712', 'date': datetime.datetime(2023, 2, 8, 14, 35, 8, tzinfo=datetime.timezone.utc), 'rawContent': \"Most important ingredients in life are:\\n- Love\\n- Friendship\\n- Family\\n\\nrest all comes later...\\n\\nOf what use is everything else when there is no happiness? Friends, Family and Love in life brings unparalleled happiness that even heaven can't find! I bet!\", 'renderedContent': \"Most important ingredients in life are:\\n- Love\\n- Friendship\\n- Family\\n\\nrest all comes later...\\n\\nOf what use is everything else when there is no happiness? Friends, Family and Love in life brings unparalleled happiness that even heaven can't find! I bet!\", 'id': 1623329586602995712, 'user': User(username='mratanusarkar', id=3060824998, displayname='Atanu Sarkar', rawDescription='\"An engineer by profession, Physics lover by passion\"\\n\\nEmbedded Systems | IoT | Robotics | Machine Learning | Deep Learning\\n\\n🏫 Adamite\\n🎓 KIITian\\n🏢 Boschler', renderedDescription='\"An engineer by profession, Physics lover by passion\"\\n\\nEmbedded Systems | IoT | Robotics | Machine Learning | Deep Learning\\n\\n🏫 Adamite\\n🎓 KIITian\\n🏢 Boschler', descriptionLinks=None, verified=False, created=datetime.datetime(2015, 2, 25, 4, 34, 53, tzinfo=datetime.timezone.utc), followersCount=42, friendsCount=597, statusesCount=1137, favouritesCount=1976, listedCount=0, mediaCount=46, location='Kolkata, India.', protected=False, link=TextLink(text='github.com/mratanusarkar', url='https://github.com/mratanusarkar', tcourl='https://t.co/8PeZTYYAWJ', indices=(0, 23)), profileImageUrl='https://pbs.twimg.com/profile_images/1319690880991678464/6NmztV8g_normal.jpg', profileBannerUrl='https://pbs.twimg.com/profile_banners/3060824998/1425231939', label=None), 'replyCount': 0, 'retweetCount': 0, 'likeCount': 0, 'quoteCount': 0, 'conversationId': 1623329586602995712, 'lang': 'en', 'source': None, 'sourceUrl': None, 'sourceLabel': None, 'links': None, 'media': None, 'retweetedTweet': None, 'quotedTweet': None, 'inReplyToTweetId': None, 'inReplyToUser': None, 'mentionedUsers': None, 'coordinates': None, 'place': None, 'hashtags': None, 'cashtags': None, 'card': None, 'viewCount': 7, 'vibe': None}\n"
          ]
        }
      ]
    },
    {
      "cell_type": "code",
      "source": [
        "# using ListPosts Scraper\n",
        "listName = \"Physics\"\n",
        "twitter_search = sntwitter.TwitterListPostsScraper(listName).get_items()\n",
        "tweet = next(twitter_search)\n",
        "print(vars(tweet))"
      ],
      "metadata": {
        "id": "E5MBsz0b-D17",
        "outputId": "ba6964f1-7635-4c94-c07c-056b5a776ae6",
        "colab": {
          "base_uri": "https://localhost:8080/"
        }
      },
      "execution_count": 64,
      "outputs": [
        {
          "output_type": "stream",
          "name": "stdout",
          "text": [
            "{'url': 'https://twitter.com/myshoeandshisha/status/1621613685834760192', 'date': datetime.datetime(2023, 2, 3, 20, 56, 45, tzinfo=datetime.timezone.utc), 'rawContent': 'science tier list:\\nphysics\\nchemistry\\nbiology\\n\\npsychology', 'renderedContent': 'science tier list:\\nphysics\\nchemistry\\nbiology\\n\\npsychology', 'id': 1621613685834760192, 'user': User(username='myshoeandshisha', id=1236299057582219264, displayname='bobby', rawDescription='im bengali and maeesha 🛒🎡', renderedDescription='im bengali and maeesha 🛒🎡', descriptionLinks=None, verified=False, created=datetime.datetime(2020, 3, 7, 14, 34, 12, tzinfo=datetime.timezone.utc), followersCount=127, friendsCount=157, statusesCount=3322, favouritesCount=15435, listedCount=0, mediaCount=177, location='Houston, TX', protected=False, link=TextLink(text='www.com', url='http://www.com', tcourl='https://t.co/m8cfO8t77v', indices=(0, 23)), profileImageUrl='https://pbs.twimg.com/profile_images/1585314912657719297/C458OLZJ_normal.jpg', profileBannerUrl='https://pbs.twimg.com/profile_banners/1236299057582219264/1600168263', label=None), 'replyCount': 2, 'retweetCount': 0, 'likeCount': 1, 'quoteCount': 0, 'conversationId': 1621613685834760192, 'lang': 'en', 'source': '<a href=\"http://twitter.com/download/android\" rel=\"nofollow\">Twitter for Android</a>', 'sourceUrl': 'http://twitter.com/download/android', 'sourceLabel': 'Twitter for Android', 'links': None, 'media': None, 'retweetedTweet': None, 'quotedTweet': None, 'inReplyToTweetId': None, 'inReplyToUser': None, 'mentionedUsers': None, 'coordinates': None, 'place': None, 'hashtags': None, 'cashtags': None, 'card': None, 'viewCount': 156, 'vibe': None}\n"
          ]
        }
      ]
    },
    {
      "cell_type": "code",
      "source": [
        "# using Trends Scraper\n",
        "user = \"mratanusarkar\"\n",
        "twitter_search = sntwitter.TwitterProfileScraper(user).get_items()\n",
        "tweet = next(twitter_search)\n",
        "print(vars(tweet))"
      ],
      "metadata": {
        "id": "L2tA1mw6-D61"
      },
      "execution_count": null,
      "outputs": []
    },
    {
      "cell_type": "code",
      "source": [],
      "metadata": {
        "id": "3D6KdMEUCslf"
      },
      "execution_count": null,
      "outputs": []
    },
    {
      "cell_type": "markdown",
      "source": [
        "On analysis, useful methods that can be used for our purpose are:\n",
        "* TwitterSearchScraper\n",
        "* TwitterUserScraper\n",
        "* TwitterProfileScraper\n",
        "* TwitterHashtagScraper\n",
        "* TwitterTrendsScraper"
      ],
      "metadata": {
        "id": "LBIZG_LSB1-S"
      }
    },
    {
      "cell_type": "code",
      "source": [],
      "metadata": {
        "id": "ehC0RUu2CsoS"
      },
      "execution_count": null,
      "outputs": []
    },
    {
      "cell_type": "markdown",
      "source": [
        "Since TwitterSearchScraper looks most useful for our use-case, let's study the response object:"
      ],
      "metadata": {
        "id": "3yYU94yQF5lN"
      }
    },
    {
      "cell_type": "code",
      "source": [
        "# look at all the keys of the object\n",
        "vars(tweet).keys()"
      ],
      "metadata": {
        "id": "BEp8mNJroMAn",
        "outputId": "b7967e75-5e54-42f2-d52f-65e732b752cd",
        "colab": {
          "base_uri": "https://localhost:8080/"
        }
      },
      "execution_count": 65,
      "outputs": [
        {
          "output_type": "execute_result",
          "data": {
            "text/plain": [
              "dict_keys(['url', 'date', 'rawContent', 'renderedContent', 'id', 'user', 'replyCount', 'retweetCount', 'likeCount', 'quoteCount', 'conversationId', 'lang', 'source', 'sourceUrl', 'sourceLabel', 'links', 'media', 'retweetedTweet', 'quotedTweet', 'inReplyToTweetId', 'inReplyToUser', 'mentionedUsers', 'coordinates', 'place', 'hashtags', 'cashtags', 'card', 'viewCount', 'vibe'])"
            ]
          },
          "metadata": {},
          "execution_count": 65
        }
      ]
    },
    {
      "cell_type": "code",
      "source": [
        "useful_keys = ['id', 'date', 'user', 'rawContent', 'viewCount', 'likeCount', 'replyCount', 'retweetCount', 'quoteCount', 'url']\n",
        "data = [str(vars(tweet).get(keys)) for keys in useful_keys]\n",
        "data"
      ],
      "metadata": {
        "id": "A6phxsTu9jj7",
        "outputId": "69c3cd1d-8ba4-4ee2-c96a-d8054a583916",
        "colab": {
          "base_uri": "https://localhost:8080/"
        }
      },
      "execution_count": 71,
      "outputs": [
        {
          "output_type": "execute_result",
          "data": {
            "text/plain": [
              "['1621613685834760192',\n",
              " '2023-02-03 20:56:45+00:00',\n",
              " 'https://twitter.com/myshoeandshisha',\n",
              " 'science tier list:\\nphysics\\nchemistry\\nbiology\\n\\npsychology',\n",
              " '156',\n",
              " '1',\n",
              " '2',\n",
              " '0',\n",
              " '0',\n",
              " 'https://twitter.com/myshoeandshisha/status/1621613685834760192']"
            ]
          },
          "metadata": {},
          "execution_count": 71
        }
      ]
    },
    {
      "cell_type": "code",
      "source": [
        "data = [\n",
        "    tweet.id,\n",
        "    tweet.date,\n",
        "    tweet.user.username,\n",
        "    tweet.rawContent,\n",
        "    tweet.viewCount,\n",
        "    tweet.likeCount,\n",
        "    tweet.replyCount,\n",
        "    tweet.retweetCount,\n",
        "    tweet.quoteCount,\n",
        "    tweet.url\n",
        "]\n",
        "data"
      ],
      "metadata": {
        "id": "rM5gjRceJiEL",
        "outputId": "491462d8-ca4a-4eb6-9576-9c56ffdda80e",
        "colab": {
          "base_uri": "https://localhost:8080/"
        }
      },
      "execution_count": 75,
      "outputs": [
        {
          "output_type": "execute_result",
          "data": {
            "text/plain": [
              "[1621613685834760192,\n",
              " datetime.datetime(2023, 2, 3, 20, 56, 45, tzinfo=datetime.timezone.utc),\n",
              " 'myshoeandshisha',\n",
              " 'science tier list:\\nphysics\\nchemistry\\nbiology\\n\\npsychology',\n",
              " 156,\n",
              " 1,\n",
              " 2,\n",
              " 0,\n",
              " 0,\n",
              " 'https://twitter.com/myshoeandshisha/status/1621613685834760192']"
            ]
          },
          "metadata": {},
          "execution_count": 75
        }
      ]
    },
    {
      "cell_type": "markdown",
      "source": [
        "## Build the scraper script"
      ],
      "metadata": {
        "id": "uX58WPFi9j0K"
      }
    },
    {
      "cell_type": "code",
      "source": [
        "# scrape and build a dataframe\n",
        "\n",
        "query = \"mratanusarkar\"\n",
        "limit = 10\n",
        "tweets = []\n",
        "columns = []\n",
        "\n",
        "twitter_search = sntwitter.TwitterSearchScraper(query).get_items()\n",
        "for tweet in tqdm(twitter_search, total=limit):\n",
        "    if len(tweets) == limit:\n",
        "        columns = list(vars(tweet).keys())\n",
        "        break\n",
        "    else:\n",
        "        tweets.append(list(vars(tweet).values()))\n",
        "\n",
        "df = pd.DataFrame(tweets, columns=columns)\n",
        "df.head(1)"
      ],
      "metadata": {
        "id": "D8sTYmS-oMLn",
        "outputId": "2c242d71-3f4a-4810-f975-a7d76d5ba65d",
        "colab": {
          "base_uri": "https://localhost:8080/",
          "height": 293,
          "referenced_widgets": [
            "dac56bd3555e45d7b8b88792ddfeb016",
            "53f7cb075641489abb6933770908d2cb",
            "64dd981eff8e46dfaf046bb8c1f936ea",
            "008082d5a7e84c338dc2c544d6354e7e",
            "79b487c665a646c49bd81316e834c639",
            "994fd386ca724bf7985216b62f70d062",
            "e501113426fe4f78ab02b930c7613d92",
            "c8eaadcf3cc749b4a2a2f99f3e86592d",
            "85c4df5b223a4379815b9c6d1b8a14d4",
            "0dec31e05fb24d959cb0d4c09de0a161",
            "b93cecc8cf964dda8b877123061cb07d"
          ]
        }
      },
      "execution_count": 77,
      "outputs": [
        {
          "output_type": "display_data",
          "data": {
            "text/plain": [
              "  0%|          | 0/10 [00:00<?, ?it/s]"
            ],
            "application/vnd.jupyter.widget-view+json": {
              "version_major": 2,
              "version_minor": 0,
              "model_id": "dac56bd3555e45d7b8b88792ddfeb016"
            }
          },
          "metadata": {}
        },
        {
          "output_type": "execute_result",
          "data": {
            "text/plain": [
              "                                                 url  \\\n",
              "0  https://twitter.com/mratanusarkar/status/16233...   \n",
              "\n",
              "                       date  \\\n",
              "0 2023-02-08 14:35:08+00:00   \n",
              "\n",
              "                                          rawContent  \\\n",
              "0  Most important ingredients in life are:\\n- Lov...   \n",
              "\n",
              "                                     renderedContent                   id  \\\n",
              "0  Most important ingredients in life are:\\n- Lov...  1623329586602995712   \n",
              "\n",
              "                                user  replyCount  retweetCount  likeCount  \\\n",
              "0  https://twitter.com/mratanusarkar           0             0          0   \n",
              "\n",
              "   quoteCount  ...  inReplyToTweetId inReplyToUser mentionedUsers coordinates  \\\n",
              "0           0  ...               NaN          None           None        None   \n",
              "\n",
              "  place hashtags cashtags  card viewCount  vibe  \n",
              "0  None     None     None  None         7  None  \n",
              "\n",
              "[1 rows x 29 columns]"
            ],
            "text/html": [
              "\n",
              "  <div id=\"df-339db325-4dcf-4244-9997-bdebe108458d\">\n",
              "    <div class=\"colab-df-container\">\n",
              "      <div>\n",
              "<style scoped>\n",
              "    .dataframe tbody tr th:only-of-type {\n",
              "        vertical-align: middle;\n",
              "    }\n",
              "\n",
              "    .dataframe tbody tr th {\n",
              "        vertical-align: top;\n",
              "    }\n",
              "\n",
              "    .dataframe thead th {\n",
              "        text-align: right;\n",
              "    }\n",
              "</style>\n",
              "<table border=\"1\" class=\"dataframe\">\n",
              "  <thead>\n",
              "    <tr style=\"text-align: right;\">\n",
              "      <th></th>\n",
              "      <th>url</th>\n",
              "      <th>date</th>\n",
              "      <th>rawContent</th>\n",
              "      <th>renderedContent</th>\n",
              "      <th>id</th>\n",
              "      <th>user</th>\n",
              "      <th>replyCount</th>\n",
              "      <th>retweetCount</th>\n",
              "      <th>likeCount</th>\n",
              "      <th>quoteCount</th>\n",
              "      <th>...</th>\n",
              "      <th>inReplyToTweetId</th>\n",
              "      <th>inReplyToUser</th>\n",
              "      <th>mentionedUsers</th>\n",
              "      <th>coordinates</th>\n",
              "      <th>place</th>\n",
              "      <th>hashtags</th>\n",
              "      <th>cashtags</th>\n",
              "      <th>card</th>\n",
              "      <th>viewCount</th>\n",
              "      <th>vibe</th>\n",
              "    </tr>\n",
              "  </thead>\n",
              "  <tbody>\n",
              "    <tr>\n",
              "      <th>0</th>\n",
              "      <td>https://twitter.com/mratanusarkar/status/16233...</td>\n",
              "      <td>2023-02-08 14:35:08+00:00</td>\n",
              "      <td>Most important ingredients in life are:\\n- Lov...</td>\n",
              "      <td>Most important ingredients in life are:\\n- Lov...</td>\n",
              "      <td>1623329586602995712</td>\n",
              "      <td>https://twitter.com/mratanusarkar</td>\n",
              "      <td>0</td>\n",
              "      <td>0</td>\n",
              "      <td>0</td>\n",
              "      <td>0</td>\n",
              "      <td>...</td>\n",
              "      <td>NaN</td>\n",
              "      <td>None</td>\n",
              "      <td>None</td>\n",
              "      <td>None</td>\n",
              "      <td>None</td>\n",
              "      <td>None</td>\n",
              "      <td>None</td>\n",
              "      <td>None</td>\n",
              "      <td>7</td>\n",
              "      <td>None</td>\n",
              "    </tr>\n",
              "  </tbody>\n",
              "</table>\n",
              "<p>1 rows × 29 columns</p>\n",
              "</div>\n",
              "      <button class=\"colab-df-convert\" onclick=\"convertToInteractive('df-339db325-4dcf-4244-9997-bdebe108458d')\"\n",
              "              title=\"Convert this dataframe to an interactive table.\"\n",
              "              style=\"display:none;\">\n",
              "        \n",
              "  <svg xmlns=\"http://www.w3.org/2000/svg\" height=\"24px\"viewBox=\"0 0 24 24\"\n",
              "       width=\"24px\">\n",
              "    <path d=\"M0 0h24v24H0V0z\" fill=\"none\"/>\n",
              "    <path d=\"M18.56 5.44l.94 2.06.94-2.06 2.06-.94-2.06-.94-.94-2.06-.94 2.06-2.06.94zm-11 1L8.5 8.5l.94-2.06 2.06-.94-2.06-.94L8.5 2.5l-.94 2.06-2.06.94zm10 10l.94 2.06.94-2.06 2.06-.94-2.06-.94-.94-2.06-.94 2.06-2.06.94z\"/><path d=\"M17.41 7.96l-1.37-1.37c-.4-.4-.92-.59-1.43-.59-.52 0-1.04.2-1.43.59L10.3 9.45l-7.72 7.72c-.78.78-.78 2.05 0 2.83L4 21.41c.39.39.9.59 1.41.59.51 0 1.02-.2 1.41-.59l7.78-7.78 2.81-2.81c.8-.78.8-2.07 0-2.86zM5.41 20L4 18.59l7.72-7.72 1.47 1.35L5.41 20z\"/>\n",
              "  </svg>\n",
              "      </button>\n",
              "      \n",
              "  <style>\n",
              "    .colab-df-container {\n",
              "      display:flex;\n",
              "      flex-wrap:wrap;\n",
              "      gap: 12px;\n",
              "    }\n",
              "\n",
              "    .colab-df-convert {\n",
              "      background-color: #E8F0FE;\n",
              "      border: none;\n",
              "      border-radius: 50%;\n",
              "      cursor: pointer;\n",
              "      display: none;\n",
              "      fill: #1967D2;\n",
              "      height: 32px;\n",
              "      padding: 0 0 0 0;\n",
              "      width: 32px;\n",
              "    }\n",
              "\n",
              "    .colab-df-convert:hover {\n",
              "      background-color: #E2EBFA;\n",
              "      box-shadow: 0px 1px 2px rgba(60, 64, 67, 0.3), 0px 1px 3px 1px rgba(60, 64, 67, 0.15);\n",
              "      fill: #174EA6;\n",
              "    }\n",
              "\n",
              "    [theme=dark] .colab-df-convert {\n",
              "      background-color: #3B4455;\n",
              "      fill: #D2E3FC;\n",
              "    }\n",
              "\n",
              "    [theme=dark] .colab-df-convert:hover {\n",
              "      background-color: #434B5C;\n",
              "      box-shadow: 0px 1px 3px 1px rgba(0, 0, 0, 0.15);\n",
              "      filter: drop-shadow(0px 1px 2px rgba(0, 0, 0, 0.3));\n",
              "      fill: #FFFFFF;\n",
              "    }\n",
              "  </style>\n",
              "\n",
              "      <script>\n",
              "        const buttonEl =\n",
              "          document.querySelector('#df-339db325-4dcf-4244-9997-bdebe108458d button.colab-df-convert');\n",
              "        buttonEl.style.display =\n",
              "          google.colab.kernel.accessAllowed ? 'block' : 'none';\n",
              "\n",
              "        async function convertToInteractive(key) {\n",
              "          const element = document.querySelector('#df-339db325-4dcf-4244-9997-bdebe108458d');\n",
              "          const dataTable =\n",
              "            await google.colab.kernel.invokeFunction('convertToInteractive',\n",
              "                                                     [key], {});\n",
              "          if (!dataTable) return;\n",
              "\n",
              "          const docLinkHtml = 'Like what you see? Visit the ' +\n",
              "            '<a target=\"_blank\" href=https://colab.research.google.com/notebooks/data_table.ipynb>data table notebook</a>'\n",
              "            + ' to learn more about interactive tables.';\n",
              "          element.innerHTML = '';\n",
              "          dataTable['output_type'] = 'display_data';\n",
              "          await google.colab.output.renderOutput(dataTable, element);\n",
              "          const docLink = document.createElement('div');\n",
              "          docLink.innerHTML = docLinkHtml;\n",
              "          element.appendChild(docLink);\n",
              "        }\n",
              "      </script>\n",
              "    </div>\n",
              "  </div>\n",
              "  "
            ]
          },
          "metadata": {},
          "execution_count": 77
        }
      ]
    },
    {
      "cell_type": "code",
      "source": [],
      "metadata": {
        "id": "JwX01MLh2g9W"
      },
      "execution_count": null,
      "outputs": []
    },
    {
      "cell_type": "code",
      "source": [
        "def get_tweets(query, limit, keep_keys=[]):\n",
        "    tweets = []\n",
        "    columns = []\n",
        "    pattern = re.compile(r'(?<!^)(?=[A-Z])')\n",
        "    twitter_search = sntwitter.TwitterSearchScraper(query).get_items()\n",
        "    for tweet in tqdm(twitter_search, total=limit):\n",
        "        if len(tweets) == limit:\n",
        "            if len(keep_keys) > 0:\n",
        "                columns = [pattern.sub('_', keys).lower() for keys in keep_keys]\n",
        "            else:\n",
        "                columns = list(vars(tweet).keys())\n",
        "            break\n",
        "        else:\n",
        "            if len(keep_keys) > 0:\n",
        "                data = [str(vars(tweet).get(keys)) for keys in keep_keys]\n",
        "                tweets.append(data)\n",
        "            else:\n",
        "                tweets.append(list(vars(tweet).values()))\n",
        "\n",
        "    df = pd.DataFrame(tweets, columns=columns)\n",
        "    return df"
      ],
      "metadata": {
        "id": "KHMGzjC6KUDA"
      },
      "execution_count": 79,
      "outputs": []
    },
    {
      "cell_type": "code",
      "source": [
        "useful_keys = ['id', 'date', 'user', 'rawContent', 'viewCount', 'likeCount', 'replyCount', 'retweetCount', 'quoteCount', 'url']\n",
        "get_tweets(\"mratanusarkar\", 10, useful_keys)"
      ],
      "metadata": {
        "id": "nYTH1venNE4s",
        "outputId": "45ff4622-92f4-44d3-f6ed-18f24d2032e3",
        "colab": {
          "base_uri": "https://localhost:8080/",
          "height": 788,
          "referenced_widgets": [
            "abb56c25df3445e2885224704c6ab00b",
            "34c4f0266ffe4355af5abea2c4849012",
            "a8d523856eac48e68b8bcaed8a56fcc7",
            "233ed32971054edab49baa3be376a44c",
            "9d602639c1874aa89901b5755efb56eb",
            "b97fa3ab56d4483fa07e911eac6c3f08",
            "f6601405ab08417dbc7c41c25ed1a2be",
            "14a9500158be438fb551fb4cf81779d8",
            "e6da7cc5adb6482385642c6f478057a5",
            "afc34f28e1824b41b880454f8e52a980",
            "5069ff4168484a04bd6ba5413bbbcc2b"
          ]
        }
      },
      "execution_count": 81,
      "outputs": [
        {
          "output_type": "display_data",
          "data": {
            "text/plain": [
              "  0%|          | 0/10 [00:00<?, ?it/s]"
            ],
            "application/vnd.jupyter.widget-view+json": {
              "version_major": 2,
              "version_minor": 0,
              "model_id": "abb56c25df3445e2885224704c6ab00b"
            }
          },
          "metadata": {}
        },
        {
          "output_type": "execute_result",
          "data": {
            "text/plain": [
              "                    id                       date  \\\n",
              "0  1623329586602995712  2023-02-08 14:35:08+00:00   \n",
              "1  1621363542137131008  2023-02-03 04:22:46+00:00   \n",
              "2  1620974119474044928  2023-02-02 02:35:20+00:00   \n",
              "3  1618173644068499457  2023-01-25 09:07:15+00:00   \n",
              "4  1615401618236923906  2023-01-17 17:32:13+00:00   \n",
              "5  1614994292279488514  2023-01-16 14:33:39+00:00   \n",
              "6  1614885381870346241  2023-01-16 07:20:52+00:00   \n",
              "7  1611986810539999232  2023-01-08 07:22:59+00:00   \n",
              "8  1611920785291214850  2023-01-08 03:00:37+00:00   \n",
              "9  1611335496848011265  2023-01-06 12:14:54+00:00   \n",
              "\n",
              "                                user  \\\n",
              "0  https://twitter.com/mratanusarkar   \n",
              "1  https://twitter.com/mratanusarkar   \n",
              "2  https://twitter.com/mratanusarkar   \n",
              "3  https://twitter.com/mratanusarkar   \n",
              "4  https://twitter.com/mratanusarkar   \n",
              "5  https://twitter.com/mratanusarkar   \n",
              "6  https://twitter.com/mratanusarkar   \n",
              "7  https://twitter.com/mratanusarkar   \n",
              "8  https://twitter.com/mratanusarkar   \n",
              "9  https://twitter.com/mratanusarkar   \n",
              "\n",
              "                                         raw_content view_count like_count  \\\n",
              "0  Most important ingredients in life are:\\n- Lov...          7          0   \n",
              "1  Good to see latest technology getting into che...         20          1   \n",
              "2  Be kind, selfless and generous to others,\\nbut...         14          1   \n",
              "3                                 @mochacoldcoffee 👍         22          0   \n",
              "4  @anishgiri Exactly 12 years later, on the exac...       1896          3   \n",
              "5  India is rocking it 🤘\\nProud to be born in suc...         15          0   \n",
              "6  who am I? \\nwho are you?\\nwho are we?\\nwhat's ...          7          1   \n",
              "7  Every action has its consequences.\\nAlso \"you\"...         11          0   \n",
              "8  @ReheSamay What the hell ending was that!? 😂\\n...         25          1   \n",
              "9  Work like is a gaseous fluid. It takes up the ...          9          0   \n",
              "\n",
              "  reply_count retweet_count quote_count  \\\n",
              "0           0             0           0   \n",
              "1           0             0           0   \n",
              "2           0             0           0   \n",
              "3           0             0           0   \n",
              "4           0             0           0   \n",
              "5           0             0           0   \n",
              "6           0             0           0   \n",
              "7           0             0           0   \n",
              "8           0             0           0   \n",
              "9           0             0           0   \n",
              "\n",
              "                                                 url  \n",
              "0  https://twitter.com/mratanusarkar/status/16233...  \n",
              "1  https://twitter.com/mratanusarkar/status/16213...  \n",
              "2  https://twitter.com/mratanusarkar/status/16209...  \n",
              "3  https://twitter.com/mratanusarkar/status/16181...  \n",
              "4  https://twitter.com/mratanusarkar/status/16154...  \n",
              "5  https://twitter.com/mratanusarkar/status/16149...  \n",
              "6  https://twitter.com/mratanusarkar/status/16148...  \n",
              "7  https://twitter.com/mratanusarkar/status/16119...  \n",
              "8  https://twitter.com/mratanusarkar/status/16119...  \n",
              "9  https://twitter.com/mratanusarkar/status/16113...  "
            ],
            "text/html": [
              "\n",
              "  <div id=\"df-de88d24d-d509-4981-a67e-51787fb4fe20\">\n",
              "    <div class=\"colab-df-container\">\n",
              "      <div>\n",
              "<style scoped>\n",
              "    .dataframe tbody tr th:only-of-type {\n",
              "        vertical-align: middle;\n",
              "    }\n",
              "\n",
              "    .dataframe tbody tr th {\n",
              "        vertical-align: top;\n",
              "    }\n",
              "\n",
              "    .dataframe thead th {\n",
              "        text-align: right;\n",
              "    }\n",
              "</style>\n",
              "<table border=\"1\" class=\"dataframe\">\n",
              "  <thead>\n",
              "    <tr style=\"text-align: right;\">\n",
              "      <th></th>\n",
              "      <th>id</th>\n",
              "      <th>date</th>\n",
              "      <th>user</th>\n",
              "      <th>raw_content</th>\n",
              "      <th>view_count</th>\n",
              "      <th>like_count</th>\n",
              "      <th>reply_count</th>\n",
              "      <th>retweet_count</th>\n",
              "      <th>quote_count</th>\n",
              "      <th>url</th>\n",
              "    </tr>\n",
              "  </thead>\n",
              "  <tbody>\n",
              "    <tr>\n",
              "      <th>0</th>\n",
              "      <td>1623329586602995712</td>\n",
              "      <td>2023-02-08 14:35:08+00:00</td>\n",
              "      <td>https://twitter.com/mratanusarkar</td>\n",
              "      <td>Most important ingredients in life are:\\n- Lov...</td>\n",
              "      <td>7</td>\n",
              "      <td>0</td>\n",
              "      <td>0</td>\n",
              "      <td>0</td>\n",
              "      <td>0</td>\n",
              "      <td>https://twitter.com/mratanusarkar/status/16233...</td>\n",
              "    </tr>\n",
              "    <tr>\n",
              "      <th>1</th>\n",
              "      <td>1621363542137131008</td>\n",
              "      <td>2023-02-03 04:22:46+00:00</td>\n",
              "      <td>https://twitter.com/mratanusarkar</td>\n",
              "      <td>Good to see latest technology getting into che...</td>\n",
              "      <td>20</td>\n",
              "      <td>1</td>\n",
              "      <td>0</td>\n",
              "      <td>0</td>\n",
              "      <td>0</td>\n",
              "      <td>https://twitter.com/mratanusarkar/status/16213...</td>\n",
              "    </tr>\n",
              "    <tr>\n",
              "      <th>2</th>\n",
              "      <td>1620974119474044928</td>\n",
              "      <td>2023-02-02 02:35:20+00:00</td>\n",
              "      <td>https://twitter.com/mratanusarkar</td>\n",
              "      <td>Be kind, selfless and generous to others,\\nbut...</td>\n",
              "      <td>14</td>\n",
              "      <td>1</td>\n",
              "      <td>0</td>\n",
              "      <td>0</td>\n",
              "      <td>0</td>\n",
              "      <td>https://twitter.com/mratanusarkar/status/16209...</td>\n",
              "    </tr>\n",
              "    <tr>\n",
              "      <th>3</th>\n",
              "      <td>1618173644068499457</td>\n",
              "      <td>2023-01-25 09:07:15+00:00</td>\n",
              "      <td>https://twitter.com/mratanusarkar</td>\n",
              "      <td>@mochacoldcoffee 👍</td>\n",
              "      <td>22</td>\n",
              "      <td>0</td>\n",
              "      <td>0</td>\n",
              "      <td>0</td>\n",
              "      <td>0</td>\n",
              "      <td>https://twitter.com/mratanusarkar/status/16181...</td>\n",
              "    </tr>\n",
              "    <tr>\n",
              "      <th>4</th>\n",
              "      <td>1615401618236923906</td>\n",
              "      <td>2023-01-17 17:32:13+00:00</td>\n",
              "      <td>https://twitter.com/mratanusarkar</td>\n",
              "      <td>@anishgiri Exactly 12 years later, on the exac...</td>\n",
              "      <td>1896</td>\n",
              "      <td>3</td>\n",
              "      <td>0</td>\n",
              "      <td>0</td>\n",
              "      <td>0</td>\n",
              "      <td>https://twitter.com/mratanusarkar/status/16154...</td>\n",
              "    </tr>\n",
              "    <tr>\n",
              "      <th>5</th>\n",
              "      <td>1614994292279488514</td>\n",
              "      <td>2023-01-16 14:33:39+00:00</td>\n",
              "      <td>https://twitter.com/mratanusarkar</td>\n",
              "      <td>India is rocking it 🤘\\nProud to be born in suc...</td>\n",
              "      <td>15</td>\n",
              "      <td>0</td>\n",
              "      <td>0</td>\n",
              "      <td>0</td>\n",
              "      <td>0</td>\n",
              "      <td>https://twitter.com/mratanusarkar/status/16149...</td>\n",
              "    </tr>\n",
              "    <tr>\n",
              "      <th>6</th>\n",
              "      <td>1614885381870346241</td>\n",
              "      <td>2023-01-16 07:20:52+00:00</td>\n",
              "      <td>https://twitter.com/mratanusarkar</td>\n",
              "      <td>who am I? \\nwho are you?\\nwho are we?\\nwhat's ...</td>\n",
              "      <td>7</td>\n",
              "      <td>1</td>\n",
              "      <td>0</td>\n",
              "      <td>0</td>\n",
              "      <td>0</td>\n",
              "      <td>https://twitter.com/mratanusarkar/status/16148...</td>\n",
              "    </tr>\n",
              "    <tr>\n",
              "      <th>7</th>\n",
              "      <td>1611986810539999232</td>\n",
              "      <td>2023-01-08 07:22:59+00:00</td>\n",
              "      <td>https://twitter.com/mratanusarkar</td>\n",
              "      <td>Every action has its consequences.\\nAlso \"you\"...</td>\n",
              "      <td>11</td>\n",
              "      <td>0</td>\n",
              "      <td>0</td>\n",
              "      <td>0</td>\n",
              "      <td>0</td>\n",
              "      <td>https://twitter.com/mratanusarkar/status/16119...</td>\n",
              "    </tr>\n",
              "    <tr>\n",
              "      <th>8</th>\n",
              "      <td>1611920785291214850</td>\n",
              "      <td>2023-01-08 03:00:37+00:00</td>\n",
              "      <td>https://twitter.com/mratanusarkar</td>\n",
              "      <td>@ReheSamay What the hell ending was that!? 😂\\n...</td>\n",
              "      <td>25</td>\n",
              "      <td>1</td>\n",
              "      <td>0</td>\n",
              "      <td>0</td>\n",
              "      <td>0</td>\n",
              "      <td>https://twitter.com/mratanusarkar/status/16119...</td>\n",
              "    </tr>\n",
              "    <tr>\n",
              "      <th>9</th>\n",
              "      <td>1611335496848011265</td>\n",
              "      <td>2023-01-06 12:14:54+00:00</td>\n",
              "      <td>https://twitter.com/mratanusarkar</td>\n",
              "      <td>Work like is a gaseous fluid. It takes up the ...</td>\n",
              "      <td>9</td>\n",
              "      <td>0</td>\n",
              "      <td>0</td>\n",
              "      <td>0</td>\n",
              "      <td>0</td>\n",
              "      <td>https://twitter.com/mratanusarkar/status/16113...</td>\n",
              "    </tr>\n",
              "  </tbody>\n",
              "</table>\n",
              "</div>\n",
              "      <button class=\"colab-df-convert\" onclick=\"convertToInteractive('df-de88d24d-d509-4981-a67e-51787fb4fe20')\"\n",
              "              title=\"Convert this dataframe to an interactive table.\"\n",
              "              style=\"display:none;\">\n",
              "        \n",
              "  <svg xmlns=\"http://www.w3.org/2000/svg\" height=\"24px\"viewBox=\"0 0 24 24\"\n",
              "       width=\"24px\">\n",
              "    <path d=\"M0 0h24v24H0V0z\" fill=\"none\"/>\n",
              "    <path d=\"M18.56 5.44l.94 2.06.94-2.06 2.06-.94-2.06-.94-.94-2.06-.94 2.06-2.06.94zm-11 1L8.5 8.5l.94-2.06 2.06-.94-2.06-.94L8.5 2.5l-.94 2.06-2.06.94zm10 10l.94 2.06.94-2.06 2.06-.94-2.06-.94-.94-2.06-.94 2.06-2.06.94z\"/><path d=\"M17.41 7.96l-1.37-1.37c-.4-.4-.92-.59-1.43-.59-.52 0-1.04.2-1.43.59L10.3 9.45l-7.72 7.72c-.78.78-.78 2.05 0 2.83L4 21.41c.39.39.9.59 1.41.59.51 0 1.02-.2 1.41-.59l7.78-7.78 2.81-2.81c.8-.78.8-2.07 0-2.86zM5.41 20L4 18.59l7.72-7.72 1.47 1.35L5.41 20z\"/>\n",
              "  </svg>\n",
              "      </button>\n",
              "      \n",
              "  <style>\n",
              "    .colab-df-container {\n",
              "      display:flex;\n",
              "      flex-wrap:wrap;\n",
              "      gap: 12px;\n",
              "    }\n",
              "\n",
              "    .colab-df-convert {\n",
              "      background-color: #E8F0FE;\n",
              "      border: none;\n",
              "      border-radius: 50%;\n",
              "      cursor: pointer;\n",
              "      display: none;\n",
              "      fill: #1967D2;\n",
              "      height: 32px;\n",
              "      padding: 0 0 0 0;\n",
              "      width: 32px;\n",
              "    }\n",
              "\n",
              "    .colab-df-convert:hover {\n",
              "      background-color: #E2EBFA;\n",
              "      box-shadow: 0px 1px 2px rgba(60, 64, 67, 0.3), 0px 1px 3px 1px rgba(60, 64, 67, 0.15);\n",
              "      fill: #174EA6;\n",
              "    }\n",
              "\n",
              "    [theme=dark] .colab-df-convert {\n",
              "      background-color: #3B4455;\n",
              "      fill: #D2E3FC;\n",
              "    }\n",
              "\n",
              "    [theme=dark] .colab-df-convert:hover {\n",
              "      background-color: #434B5C;\n",
              "      box-shadow: 0px 1px 3px 1px rgba(0, 0, 0, 0.15);\n",
              "      filter: drop-shadow(0px 1px 2px rgba(0, 0, 0, 0.3));\n",
              "      fill: #FFFFFF;\n",
              "    }\n",
              "  </style>\n",
              "\n",
              "      <script>\n",
              "        const buttonEl =\n",
              "          document.querySelector('#df-de88d24d-d509-4981-a67e-51787fb4fe20 button.colab-df-convert');\n",
              "        buttonEl.style.display =\n",
              "          google.colab.kernel.accessAllowed ? 'block' : 'none';\n",
              "\n",
              "        async function convertToInteractive(key) {\n",
              "          const element = document.querySelector('#df-de88d24d-d509-4981-a67e-51787fb4fe20');\n",
              "          const dataTable =\n",
              "            await google.colab.kernel.invokeFunction('convertToInteractive',\n",
              "                                                     [key], {});\n",
              "          if (!dataTable) return;\n",
              "\n",
              "          const docLinkHtml = 'Like what you see? Visit the ' +\n",
              "            '<a target=\"_blank\" href=https://colab.research.google.com/notebooks/data_table.ipynb>data table notebook</a>'\n",
              "            + ' to learn more about interactive tables.';\n",
              "          element.innerHTML = '';\n",
              "          dataTable['output_type'] = 'display_data';\n",
              "          await google.colab.output.renderOutput(dataTable, element);\n",
              "          const docLink = document.createElement('div');\n",
              "          docLink.innerHTML = docLinkHtml;\n",
              "          element.appendChild(docLink);\n",
              "        }\n",
              "      </script>\n",
              "    </div>\n",
              "  </div>\n",
              "  "
            ]
          },
          "metadata": {},
          "execution_count": 81
        }
      ]
    },
    {
      "cell_type": "code",
      "source": [],
      "metadata": {
        "id": "lq3iscWnNLQk"
      },
      "execution_count": null,
      "outputs": []
    },
    {
      "cell_type": "markdown",
      "source": [
        "## Export"
      ],
      "metadata": {
        "id": "qdmofkL5Np1K"
      }
    },
    {
      "cell_type": "code",
      "source": [
        "# export data\n",
        "# dataframe.to_json(\"tweets.json\")\n",
        "# dataframe.to_csv(\"tweets.csv\")"
      ],
      "metadata": {
        "id": "wr4HiZGtNq3Y"
      },
      "execution_count": 82,
      "outputs": []
    },
    {
      "cell_type": "code",
      "source": [],
      "metadata": {
        "id": "LHIOy8asNrc5"
      },
      "execution_count": null,
      "outputs": []
    }
  ]
}