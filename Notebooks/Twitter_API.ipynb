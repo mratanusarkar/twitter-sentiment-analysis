{
  "nbformat": 4,
  "nbformat_minor": 0,
  "metadata": {
    "colab": {
      "provenance": [],
      "authorship_tag": "ABX9TyM2HYvaMdV79sFOoyIoYLWg",
      "include_colab_link": true
    },
    "kernelspec": {
      "name": "python3",
      "display_name": "Python 3"
    },
    "language_info": {
      "name": "python"
    },
    "widgets": {
      "application/vnd.jupyter.widget-state+json": {
        "f7b439f16582460c86c8ed6bf0b2035e": {
          "model_module": "@jupyter-widgets/controls",
          "model_name": "HBoxModel",
          "model_module_version": "1.5.0",
          "state": {
            "_dom_classes": [],
            "_model_module": "@jupyter-widgets/controls",
            "_model_module_version": "1.5.0",
            "_model_name": "HBoxModel",
            "_view_count": null,
            "_view_module": "@jupyter-widgets/controls",
            "_view_module_version": "1.5.0",
            "_view_name": "HBoxView",
            "box_style": "",
            "children": [
              "IPY_MODEL_3508fede78a448bf8c6411ddb9dee7b3",
              "IPY_MODEL_55995a8acd164a68b732fc49133354e7",
              "IPY_MODEL_224b37600b7842c7910070b3d819e12c"
            ],
            "layout": "IPY_MODEL_3f9b936b0f6344bc9aeab86277eaabcb"
          }
        },
        "3508fede78a448bf8c6411ddb9dee7b3": {
          "model_module": "@jupyter-widgets/controls",
          "model_name": "HTMLModel",
          "model_module_version": "1.5.0",
          "state": {
            "_dom_classes": [],
            "_model_module": "@jupyter-widgets/controls",
            "_model_module_version": "1.5.0",
            "_model_name": "HTMLModel",
            "_view_count": null,
            "_view_module": "@jupyter-widgets/controls",
            "_view_module_version": "1.5.0",
            "_view_name": "HTMLView",
            "description": "",
            "description_tooltip": null,
            "layout": "IPY_MODEL_8ca8710125a64ee68dab47cf72f9837b",
            "placeholder": "​",
            "style": "IPY_MODEL_627e4d77fb2c4de69f6b98742da62164",
            "value": "100%"
          }
        },
        "55995a8acd164a68b732fc49133354e7": {
          "model_module": "@jupyter-widgets/controls",
          "model_name": "FloatProgressModel",
          "model_module_version": "1.5.0",
          "state": {
            "_dom_classes": [],
            "_model_module": "@jupyter-widgets/controls",
            "_model_module_version": "1.5.0",
            "_model_name": "FloatProgressModel",
            "_view_count": null,
            "_view_module": "@jupyter-widgets/controls",
            "_view_module_version": "1.5.0",
            "_view_name": "ProgressView",
            "bar_style": "danger",
            "description": "",
            "description_tooltip": null,
            "layout": "IPY_MODEL_fed8e5ad57c749e8a166ac570516c691",
            "max": 100,
            "min": 0,
            "orientation": "horizontal",
            "style": "IPY_MODEL_6e847244412142d0af8782788e4d5092",
            "value": 100
          }
        },
        "224b37600b7842c7910070b3d819e12c": {
          "model_module": "@jupyter-widgets/controls",
          "model_name": "HTMLModel",
          "model_module_version": "1.5.0",
          "state": {
            "_dom_classes": [],
            "_model_module": "@jupyter-widgets/controls",
            "_model_module_version": "1.5.0",
            "_model_name": "HTMLModel",
            "_view_count": null,
            "_view_module": "@jupyter-widgets/controls",
            "_view_module_version": "1.5.0",
            "_view_name": "HTMLView",
            "description": "",
            "description_tooltip": null,
            "layout": "IPY_MODEL_e0bfcc979e9c4b3fb74c107b8d052021",
            "placeholder": "​",
            "style": "IPY_MODEL_bdb37e0e699846feb55f43c8bd3298fb",
            "value": " 100/100 [00:05&lt;00:00, 21.63it/s]"
          }
        },
        "3f9b936b0f6344bc9aeab86277eaabcb": {
          "model_module": "@jupyter-widgets/base",
          "model_name": "LayoutModel",
          "model_module_version": "1.2.0",
          "state": {
            "_model_module": "@jupyter-widgets/base",
            "_model_module_version": "1.2.0",
            "_model_name": "LayoutModel",
            "_view_count": null,
            "_view_module": "@jupyter-widgets/base",
            "_view_module_version": "1.2.0",
            "_view_name": "LayoutView",
            "align_content": null,
            "align_items": null,
            "align_self": null,
            "border": null,
            "bottom": null,
            "display": null,
            "flex": null,
            "flex_flow": null,
            "grid_area": null,
            "grid_auto_columns": null,
            "grid_auto_flow": null,
            "grid_auto_rows": null,
            "grid_column": null,
            "grid_gap": null,
            "grid_row": null,
            "grid_template_areas": null,
            "grid_template_columns": null,
            "grid_template_rows": null,
            "height": null,
            "justify_content": null,
            "justify_items": null,
            "left": null,
            "margin": null,
            "max_height": null,
            "max_width": null,
            "min_height": null,
            "min_width": null,
            "object_fit": null,
            "object_position": null,
            "order": null,
            "overflow": null,
            "overflow_x": null,
            "overflow_y": null,
            "padding": null,
            "right": null,
            "top": null,
            "visibility": null,
            "width": null
          }
        },
        "8ca8710125a64ee68dab47cf72f9837b": {
          "model_module": "@jupyter-widgets/base",
          "model_name": "LayoutModel",
          "model_module_version": "1.2.0",
          "state": {
            "_model_module": "@jupyter-widgets/base",
            "_model_module_version": "1.2.0",
            "_model_name": "LayoutModel",
            "_view_count": null,
            "_view_module": "@jupyter-widgets/base",
            "_view_module_version": "1.2.0",
            "_view_name": "LayoutView",
            "align_content": null,
            "align_items": null,
            "align_self": null,
            "border": null,
            "bottom": null,
            "display": null,
            "flex": null,
            "flex_flow": null,
            "grid_area": null,
            "grid_auto_columns": null,
            "grid_auto_flow": null,
            "grid_auto_rows": null,
            "grid_column": null,
            "grid_gap": null,
            "grid_row": null,
            "grid_template_areas": null,
            "grid_template_columns": null,
            "grid_template_rows": null,
            "height": null,
            "justify_content": null,
            "justify_items": null,
            "left": null,
            "margin": null,
            "max_height": null,
            "max_width": null,
            "min_height": null,
            "min_width": null,
            "object_fit": null,
            "object_position": null,
            "order": null,
            "overflow": null,
            "overflow_x": null,
            "overflow_y": null,
            "padding": null,
            "right": null,
            "top": null,
            "visibility": null,
            "width": null
          }
        },
        "627e4d77fb2c4de69f6b98742da62164": {
          "model_module": "@jupyter-widgets/controls",
          "model_name": "DescriptionStyleModel",
          "model_module_version": "1.5.0",
          "state": {
            "_model_module": "@jupyter-widgets/controls",
            "_model_module_version": "1.5.0",
            "_model_name": "DescriptionStyleModel",
            "_view_count": null,
            "_view_module": "@jupyter-widgets/base",
            "_view_module_version": "1.2.0",
            "_view_name": "StyleView",
            "description_width": ""
          }
        },
        "fed8e5ad57c749e8a166ac570516c691": {
          "model_module": "@jupyter-widgets/base",
          "model_name": "LayoutModel",
          "model_module_version": "1.2.0",
          "state": {
            "_model_module": "@jupyter-widgets/base",
            "_model_module_version": "1.2.0",
            "_model_name": "LayoutModel",
            "_view_count": null,
            "_view_module": "@jupyter-widgets/base",
            "_view_module_version": "1.2.0",
            "_view_name": "LayoutView",
            "align_content": null,
            "align_items": null,
            "align_self": null,
            "border": null,
            "bottom": null,
            "display": null,
            "flex": null,
            "flex_flow": null,
            "grid_area": null,
            "grid_auto_columns": null,
            "grid_auto_flow": null,
            "grid_auto_rows": null,
            "grid_column": null,
            "grid_gap": null,
            "grid_row": null,
            "grid_template_areas": null,
            "grid_template_columns": null,
            "grid_template_rows": null,
            "height": null,
            "justify_content": null,
            "justify_items": null,
            "left": null,
            "margin": null,
            "max_height": null,
            "max_width": null,
            "min_height": null,
            "min_width": null,
            "object_fit": null,
            "object_position": null,
            "order": null,
            "overflow": null,
            "overflow_x": null,
            "overflow_y": null,
            "padding": null,
            "right": null,
            "top": null,
            "visibility": null,
            "width": null
          }
        },
        "6e847244412142d0af8782788e4d5092": {
          "model_module": "@jupyter-widgets/controls",
          "model_name": "ProgressStyleModel",
          "model_module_version": "1.5.0",
          "state": {
            "_model_module": "@jupyter-widgets/controls",
            "_model_module_version": "1.5.0",
            "_model_name": "ProgressStyleModel",
            "_view_count": null,
            "_view_module": "@jupyter-widgets/base",
            "_view_module_version": "1.2.0",
            "_view_name": "StyleView",
            "bar_color": null,
            "description_width": ""
          }
        },
        "e0bfcc979e9c4b3fb74c107b8d052021": {
          "model_module": "@jupyter-widgets/base",
          "model_name": "LayoutModel",
          "model_module_version": "1.2.0",
          "state": {
            "_model_module": "@jupyter-widgets/base",
            "_model_module_version": "1.2.0",
            "_model_name": "LayoutModel",
            "_view_count": null,
            "_view_module": "@jupyter-widgets/base",
            "_view_module_version": "1.2.0",
            "_view_name": "LayoutView",
            "align_content": null,
            "align_items": null,
            "align_self": null,
            "border": null,
            "bottom": null,
            "display": null,
            "flex": null,
            "flex_flow": null,
            "grid_area": null,
            "grid_auto_columns": null,
            "grid_auto_flow": null,
            "grid_auto_rows": null,
            "grid_column": null,
            "grid_gap": null,
            "grid_row": null,
            "grid_template_areas": null,
            "grid_template_columns": null,
            "grid_template_rows": null,
            "height": null,
            "justify_content": null,
            "justify_items": null,
            "left": null,
            "margin": null,
            "max_height": null,
            "max_width": null,
            "min_height": null,
            "min_width": null,
            "object_fit": null,
            "object_position": null,
            "order": null,
            "overflow": null,
            "overflow_x": null,
            "overflow_y": null,
            "padding": null,
            "right": null,
            "top": null,
            "visibility": null,
            "width": null
          }
        },
        "bdb37e0e699846feb55f43c8bd3298fb": {
          "model_module": "@jupyter-widgets/controls",
          "model_name": "DescriptionStyleModel",
          "model_module_version": "1.5.0",
          "state": {
            "_model_module": "@jupyter-widgets/controls",
            "_model_module_version": "1.5.0",
            "_model_name": "DescriptionStyleModel",
            "_view_count": null,
            "_view_module": "@jupyter-widgets/base",
            "_view_module_version": "1.2.0",
            "_view_name": "StyleView",
            "description_width": ""
          }
        }
      }
    }
  },
  "cells": [
    {
      "cell_type": "markdown",
      "metadata": {
        "id": "view-in-github",
        "colab_type": "text"
      },
      "source": [
        "<a href=\"https://colab.research.google.com/github/mratanusarkar/twitter-sentiment-analysis/blob/feature%2Ftwitter-api/Notebooks/Twitter_API.ipynb\" target=\"_parent\"><img src=\"https://colab.research.google.com/assets/colab-badge.svg\" alt=\"Open In Colab\"/></a>"
      ]
    },
    {
      "cell_type": "markdown",
      "source": [
        "# Twitter API"
      ],
      "metadata": {
        "id": "ZUQ1RktOEYfL"
      }
    },
    {
      "cell_type": "markdown",
      "source": [
        "Aim is to connect to twitter via API (v2) and use it to pull tweets based on filters and conditions such as:\n",
        "- hashtags (#)\n",
        "- userId or mentions (@)\n",
        "- keywords (string)\n",
        "\n",
        "Using the retrieved data, sort and order the tweets based on various parameters such as:\n",
        "- number of likes\n",
        "- number of comments\n",
        "- number of retweets\n",
        "- number of engagement or view count\n",
        "\n",
        "So that, the data can be used for sentiment analysis.\n",
        "\n",
        "In future (v2), we can also go in depth into each \"tweet thread\" and \"quote tweet (retweet)\" to find links and relations with each other, and get different analysis."
      ],
      "metadata": {
        "id": "bCyne9i_sw_k"
      }
    },
    {
      "cell_type": "markdown",
      "source": [
        "**Note**: please skip to the **final implementation** [here](#final-implementation),<br>\n",
        "if you don't want to go through all the analysis, various experiments with different packages and various methods & use-cases."
      ],
      "metadata": {
        "id": "Ur92NJWlrwLa"
      }
    },
    {
      "cell_type": "markdown",
      "source": [
        "# Using \"twitter-api v2\"\n",
        "https://developer.twitter.com/en/docs/twitter-api"
      ],
      "metadata": {
        "id": "bz2aFdnFnZPZ"
      }
    },
    {
      "cell_type": "markdown",
      "source": [
        "## Import Packages"
      ],
      "metadata": {
        "id": "ZV1qc4LVuVwf"
      }
    },
    {
      "cell_type": "code",
      "source": [
        "import tweepy\n",
        "import configparser\n",
        "import pandas as pd\n",
        "from pprint import pprint"
      ],
      "metadata": {
        "id": "ylrtiFHdsBdL"
      },
      "execution_count": null,
      "outputs": []
    },
    {
      "cell_type": "code",
      "source": [],
      "metadata": {
        "id": "i2uSlQ7O0qbp"
      },
      "execution_count": null,
      "outputs": []
    },
    {
      "cell_type": "markdown",
      "source": [
        "## Input secrets and keys"
      ],
      "metadata": {
        "id": "z6U-a-i7uhr9"
      }
    },
    {
      "cell_type": "code",
      "execution_count": null,
      "metadata": {
        "id": "XYyy6mRaETP8"
      },
      "outputs": [],
      "source": [
        "# secrets and keys\n",
        "api_key = \"<API_KEY>\"\n",
        "api_key_secret = \"<API_KEY_SECRET>\"\n",
        "bearer_token = \"<BEARER_TOKEN>\"\n",
        "access_token = \"<ACCESS_TOKEN>\"\n",
        "access_token_secret = \"<ACCESS_TOKEN_SECRET>\""
      ]
    },
    {
      "cell_type": "code",
      "source": [],
      "metadata": {
        "id": "q9ccPtdqsM9d"
      },
      "execution_count": null,
      "outputs": []
    },
    {
      "cell_type": "markdown",
      "source": [
        "## Connect to Twitter API"
      ],
      "metadata": {
        "id": "Dx3Mtu7SurPL"
      }
    },
    {
      "cell_type": "code",
      "source": [
        "# set auth handler\n",
        "auth = tweepy.OAuthHandler(api_key, api_key_secret)\n",
        "auth.set_access_token(access_token, access_token_secret)\n",
        "\n",
        "# authenticate and get api handler\n",
        "api = tweepy.API(auth)"
      ],
      "metadata": {
        "id": "4S6fMjBcupS6"
      },
      "execution_count": null,
      "outputs": []
    },
    {
      "cell_type": "code",
      "source": [],
      "metadata": {
        "id": "k_hjnlptsNAM"
      },
      "execution_count": null,
      "outputs": []
    },
    {
      "cell_type": "markdown",
      "source": [
        "## Pull tweets using various methods"
      ],
      "metadata": {
        "id": "gajxWg6jwGt6"
      }
    },
    {
      "cell_type": "code",
      "source": [
        "# get public tweets from my timeline\n",
        "limit = 1\n",
        "\n",
        "tweets_from_public_timeline = api.home_timeline(count=limit)\n",
        "# pprint(tweets_from_public_timeline[0]._json)\n",
        "print(tweets_from_public_timeline[0].text)"
      ],
      "metadata": {
        "id": "3WnEwcKVsNC6"
      },
      "execution_count": null,
      "outputs": []
    },
    {
      "cell_type": "code",
      "source": [
        "# get tweets from specific user\n",
        "user = 'mratanusarkar'\n",
        "limit = 1\n",
        "\n",
        "tweets_from_user_timeline = api.user_timeline(screen_name=user, count=limit, tweet_mode='extended')\n",
        "# pprint(tweets_from_user_timeline[0]._json)\n",
        "print(tweets_from_user_timeline[0].full_text)"
      ],
      "metadata": {
        "id": "JUOFZhlN3R8v"
      },
      "execution_count": null,
      "outputs": []
    },
    {
      "cell_type": "code",
      "source": [
        "# get tweets using keywords, #hashtags or @mentions"
      ],
      "metadata": {
        "id": "gb9I1zoN8JMD"
      },
      "execution_count": null,
      "outputs": []
    },
    {
      "cell_type": "code",
      "source": [
        "# get tweets from keywords\n",
        "keywords = \"physics\"\n",
        "limit = 1\n",
        "\n",
        "tweets_from_keywords = api.search(q=keywords, count=limit, tweet_mode='extended')\n",
        "# pprint(tweets_from_keywords[0]._json)\n",
        "print(tweets_from_keywords[0].full_text)"
      ],
      "metadata": {
        "id": "2FAZiT8C6lIA"
      },
      "execution_count": null,
      "outputs": []
    },
    {
      "cell_type": "code",
      "source": [
        "# get tweets from #hashtags\n",
        "keywords = \"#physics\"\n",
        "limit = 1\n",
        "\n",
        "tweets_from_keywords = api.search(q=keywords, count=limit, tweet_mode='extended', include_entities=True)\n",
        "# pprint(tweets_from_keywords[0]._json)\n",
        "print(tweets_from_keywords[0].full_text)"
      ],
      "metadata": {
        "id": "IWVmq2Bt7peX"
      },
      "execution_count": null,
      "outputs": []
    },
    {
      "cell_type": "code",
      "source": [
        "# get tweets from @users or @mentions\n",
        "keywords = \"@3blue1brown\"\n",
        "limit = 1\n",
        "\n",
        "tweets_from_keywords = api.search(q=keywords, count=limit, tweet_mode='extended', include_entities=True)\n",
        "# pprint(tweets_from_keywords[0]._json)\n",
        "print(tweets_from_keywords[0].full_text)"
      ],
      "metadata": {
        "id": "Lw5RujBz8GY4"
      },
      "execution_count": null,
      "outputs": []
    },
    {
      "cell_type": "code",
      "source": [
        "# combination of all\n",
        "query = \"#math OR #mathematics AND @3blue1brown\"\n",
        "limit = 1\n",
        "\n",
        "tweets_from_keywords = api.search(q=query, count=limit, tweet_mode='extended', include_entities=True)\n",
        "# pprint(tweets_from_keywords[0]._json)\n",
        "print(tweets_from_keywords[0].full_text)"
      ],
      "metadata": {
        "id": "VcbagUgF8cZq"
      },
      "execution_count": null,
      "outputs": []
    },
    {
      "cell_type": "code",
      "source": [],
      "metadata": {
        "id": "64bRVI-j8cdE"
      },
      "execution_count": null,
      "outputs": []
    },
    {
      "cell_type": "code",
      "source": [
        "# use cursor to avoid the API cap\n",
        "query = \"#math OR #mathematics AND @3blue1brown OR physics\"\n",
        "limit = 300\n",
        "\n",
        "tweets = tweepy.Cursor(api.search, q=query, count=100, tweet_mode='extended').items(limit)\n",
        "print(tweets)"
      ],
      "metadata": {
        "id": "SyU3ShDW3R_Y"
      },
      "execution_count": null,
      "outputs": []
    },
    {
      "cell_type": "code",
      "source": [
        "# print(list(tweets)[0].full_text)\n",
        "# it seems that we can access the iterable only once!! \n",
        "# so better convert it to a df"
      ],
      "metadata": {
        "id": "wAUjsA563SHC"
      },
      "execution_count": null,
      "outputs": []
    },
    {
      "cell_type": "code",
      "source": [
        "# print all tweets\n",
        "# for i, tweet in list(tweets):\n",
        "#     print(i, \":\", tweet.full_text)"
      ],
      "metadata": {
        "id": "ddMkUDwKsNGD"
      },
      "execution_count": null,
      "outputs": []
    },
    {
      "cell_type": "code",
      "source": [],
      "metadata": {
        "id": "9-pvBRaP3Z6N"
      },
      "execution_count": null,
      "outputs": []
    },
    {
      "cell_type": "markdown",
      "source": [
        "## Save the data in a DataFrame"
      ],
      "metadata": {
        "id": "rzoFczQh0t9r"
      }
    },
    {
      "cell_type": "code",
      "source": [
        "# define the column names\n",
        "columns = [\"Time\", \"User\", \"Tweet\"]\n",
        "data = []"
      ],
      "metadata": {
        "id": "k4Uht9v_04FF"
      },
      "execution_count": null,
      "outputs": []
    },
    {
      "cell_type": "code",
      "source": [
        "for tweet in tweets:\n",
        "    data.append([tweet.created_at, tweet.user.screen_name, tweet.full_text])\n",
        "dataframe = pd.DataFrame(data, columns=columns)\n",
        "dataframe"
      ],
      "metadata": {
        "id": "DuuuYZEA1PBm"
      },
      "execution_count": null,
      "outputs": []
    },
    {
      "cell_type": "markdown",
      "source": [
        "## Export"
      ],
      "metadata": {
        "id": "dDYjAzffNjrS"
      }
    },
    {
      "cell_type": "code",
      "source": [
        "# export data\n",
        "# dataframe.to_json(\"tweets.json\")\n",
        "# dataframe.to_csv(\"tweets.csv\")"
      ],
      "metadata": {
        "id": "REpDCmhr2Pyv"
      },
      "execution_count": null,
      "outputs": []
    },
    {
      "cell_type": "code",
      "source": [],
      "metadata": {
        "id": "3Z92u9Da2e66"
      },
      "execution_count": null,
      "outputs": []
    },
    {
      "cell_type": "markdown",
      "source": [
        "# Using \"snscrape\"\n",
        "https://github.com/JustAnotherArchivist/snscrape"
      ],
      "metadata": {
        "id": "43g2b_Zgn0JT"
      }
    },
    {
      "cell_type": "markdown",
      "source": [
        "## Import Packages"
      ],
      "metadata": {
        "id": "-xhXIbeItbAw"
      }
    },
    {
      "cell_type": "code",
      "source": [
        "!pip install snscrape"
      ],
      "metadata": {
        "id": "JciQt7xqt9pC"
      },
      "execution_count": null,
      "outputs": []
    },
    {
      "cell_type": "code",
      "source": [
        "import snscrape.modules.twitter as sntwitter\n",
        "import pandas as pd\n",
        "from pprint import pprint\n",
        "from tqdm.notebook import tqdm\n",
        "import re"
      ],
      "metadata": {
        "id": "JmxciAPhoLTV"
      },
      "execution_count": null,
      "outputs": []
    },
    {
      "cell_type": "code",
      "source": [],
      "metadata": {
        "id": "gblQArVfoL7D"
      },
      "execution_count": null,
      "outputs": []
    },
    {
      "cell_type": "markdown",
      "source": [
        "## Pull tweets using various methods"
      ],
      "metadata": {
        "id": "WRFXzyH9uLP3"
      }
    },
    {
      "cell_type": "code",
      "source": [
        "# list of available scrapers\n",
        "[fn_names for fn_names in sntwitter.__all__ if \"Scraper\" in fn_names]"
      ],
      "metadata": {
        "id": "HA9SiF3KAVtl"
      },
      "execution_count": null,
      "outputs": []
    },
    {
      "cell_type": "code",
      "source": [
        "# using Search Scraper\n",
        "query = \"india\"\n",
        "twitter_search = sntwitter.TwitterSearchScraper(query).get_items()\n",
        "tweet = next(twitter_search)\n",
        "print(vars(tweet))"
      ],
      "metadata": {
        "id": "I8mtUUeooL9N"
      },
      "execution_count": null,
      "outputs": []
    },
    {
      "cell_type": "code",
      "source": [
        "# using User Scraper\n",
        "user = \"mratanusarkar\"\n",
        "twitter_search = sntwitter.TwitterUserScraper(user).get_items()\n",
        "tweet = next(twitter_search)\n",
        "print(vars(tweet))"
      ],
      "metadata": {
        "id": "MdEyaoos9je6"
      },
      "execution_count": null,
      "outputs": []
    },
    {
      "cell_type": "code",
      "source": [
        "# using Profile Scraper\n",
        "user = \"mratanusarkar\"\n",
        "twitter_search = sntwitter.TwitterProfileScraper(user).get_items()\n",
        "tweet = next(twitter_search)\n",
        "print(vars(tweet))"
      ],
      "metadata": {
        "id": "4Icmr7FZ-D4c"
      },
      "execution_count": null,
      "outputs": []
    },
    {
      "cell_type": "code",
      "source": [
        "# using Hashtag Scraper\n",
        "hashtag = \"india\"\n",
        "twitter_search = sntwitter.TwitterHashtagScraper(hashtag).get_items()\n",
        "tweet = next(twitter_search)\n",
        "print(vars(tweet))"
      ],
      "metadata": {
        "id": "OibQa_A7DIgV"
      },
      "execution_count": null,
      "outputs": []
    },
    {
      "cell_type": "code",
      "source": [
        "# using Tweet Scraper\n",
        "tweetId = \"1623329586602995712\"\n",
        "twitter_search = sntwitter.TwitterTweetScraper(tweetId).get_items()\n",
        "tweet = next(twitter_search)\n",
        "print(vars(tweet))"
      ],
      "metadata": {
        "id": "dVamMnq_-pDB"
      },
      "execution_count": null,
      "outputs": []
    },
    {
      "cell_type": "code",
      "source": [
        "# using ListPosts Scraper\n",
        "listName = \"Physics\"\n",
        "twitter_search = sntwitter.TwitterListPostsScraper(listName).get_items()\n",
        "tweet = next(twitter_search)\n",
        "print(vars(tweet))"
      ],
      "metadata": {
        "id": "E5MBsz0b-D17"
      },
      "execution_count": null,
      "outputs": []
    },
    {
      "cell_type": "code",
      "source": [
        "# using Trends Scraper\n",
        "user = \"mratanusarkar\"\n",
        "twitter_search = sntwitter.TwitterProfileScraper(user).get_items()\n",
        "tweet = next(twitter_search)\n",
        "print(vars(tweet))"
      ],
      "metadata": {
        "id": "L2tA1mw6-D61"
      },
      "execution_count": null,
      "outputs": []
    },
    {
      "cell_type": "code",
      "source": [],
      "metadata": {
        "id": "3D6KdMEUCslf"
      },
      "execution_count": null,
      "outputs": []
    },
    {
      "cell_type": "markdown",
      "source": [
        "On analysis, useful methods that can be used for our purpose are:\n",
        "* TwitterSearchScraper\n",
        "* TwitterUserScraper\n",
        "* TwitterProfileScraper\n",
        "* TwitterHashtagScraper\n",
        "* TwitterTrendsScraper"
      ],
      "metadata": {
        "id": "LBIZG_LSB1-S"
      }
    },
    {
      "cell_type": "code",
      "source": [],
      "metadata": {
        "id": "ehC0RUu2CsoS"
      },
      "execution_count": null,
      "outputs": []
    },
    {
      "cell_type": "markdown",
      "source": [
        "Since TwitterSearchScraper looks most useful for our use-case, let's study the response object:"
      ],
      "metadata": {
        "id": "3yYU94yQF5lN"
      }
    },
    {
      "cell_type": "code",
      "source": [
        "# look at all the keys of the object\n",
        "vars(tweet).keys()"
      ],
      "metadata": {
        "id": "BEp8mNJroMAn"
      },
      "execution_count": null,
      "outputs": []
    },
    {
      "cell_type": "code",
      "source": [
        "useful_keys = ['id', 'date', 'user', 'rawContent', 'viewCount', 'likeCount', 'replyCount', 'retweetCount', 'quoteCount', 'url']\n",
        "data = [str(vars(tweet).get(keys)) for keys in useful_keys]\n",
        "data"
      ],
      "metadata": {
        "id": "A6phxsTu9jj7"
      },
      "execution_count": null,
      "outputs": []
    },
    {
      "cell_type": "code",
      "source": [
        "data = [\n",
        "    tweet.id,\n",
        "    tweet.date,\n",
        "    tweet.user.username,\n",
        "    tweet.rawContent,\n",
        "    tweet.viewCount,\n",
        "    tweet.likeCount,\n",
        "    tweet.replyCount,\n",
        "    tweet.retweetCount,\n",
        "    tweet.quoteCount,\n",
        "    tweet.url\n",
        "]\n",
        "data"
      ],
      "metadata": {
        "id": "rM5gjRceJiEL"
      },
      "execution_count": null,
      "outputs": []
    },
    {
      "cell_type": "markdown",
      "source": [
        "## Build the scraper script"
      ],
      "metadata": {
        "id": "uX58WPFi9j0K"
      }
    },
    {
      "cell_type": "code",
      "source": [
        "# scrape and build a dataframe\n",
        "\n",
        "query = \"mratanusarkar\"\n",
        "limit = 10\n",
        "tweets = []\n",
        "columns = []\n",
        "\n",
        "twitter_search = sntwitter.TwitterSearchScraper(query).get_items()\n",
        "for tweet in tqdm(twitter_search, total=limit):\n",
        "    if len(tweets) == limit:\n",
        "        columns = list(vars(tweet).keys())\n",
        "        break\n",
        "    else:\n",
        "        tweets.append(list(vars(tweet).values()))\n",
        "\n",
        "df = pd.DataFrame(tweets, columns=columns)\n",
        "df.head(1)"
      ],
      "metadata": {
        "id": "D8sTYmS-oMLn"
      },
      "execution_count": null,
      "outputs": []
    },
    {
      "cell_type": "code",
      "source": [],
      "metadata": {
        "id": "JwX01MLh2g9W"
      },
      "execution_count": null,
      "outputs": []
    },
    {
      "cell_type": "code",
      "source": [
        "# structuring into a helper function\n",
        "def get_tweets(query, limit, keep_keys=[]):\n",
        "    tweets = []\n",
        "    columns = []\n",
        "    pattern = re.compile(r'(?<!^)(?=[A-Z])')\n",
        "    twitter_search = sntwitter.TwitterSearchScraper(query).get_items()\n",
        "    for tweet in tqdm(twitter_search, total=limit):\n",
        "        if len(tweets) == limit:\n",
        "            if len(keep_keys) > 0:\n",
        "                columns = [pattern.sub('_', keys).lower() for keys in keep_keys]\n",
        "            else:\n",
        "                columns = list(vars(tweet).keys())\n",
        "            break\n",
        "        else:\n",
        "            if len(keep_keys) > 0:\n",
        "                data = [str(vars(tweet).get(keys)) for keys in keep_keys]\n",
        "                tweets.append(data)\n",
        "            else:\n",
        "                tweets.append(list(vars(tweet).values()))\n",
        "\n",
        "    df = pd.DataFrame(tweets, columns=columns)\n",
        "    return df"
      ],
      "metadata": {
        "id": "KHMGzjC6KUDA"
      },
      "execution_count": null,
      "outputs": []
    },
    {
      "cell_type": "code",
      "source": [
        "useful_keys = ['id', 'date', 'user', 'rawContent', 'viewCount', 'likeCount', 'replyCount', 'retweetCount', 'quoteCount', 'url']\n",
        "get_tweets(\"mratanusarkar\", 10, useful_keys)"
      ],
      "metadata": {
        "id": "nYTH1venNE4s"
      },
      "execution_count": null,
      "outputs": []
    },
    {
      "cell_type": "code",
      "source": [],
      "metadata": {
        "id": "lq3iscWnNLQk"
      },
      "execution_count": null,
      "outputs": []
    },
    {
      "cell_type": "markdown",
      "source": [
        "## Export"
      ],
      "metadata": {
        "id": "qdmofkL5Np1K"
      }
    },
    {
      "cell_type": "code",
      "source": [
        "# export data\n",
        "# dataframe.to_json(\"tweets.json\")\n",
        "# dataframe.to_csv(\"tweets.csv\")"
      ],
      "metadata": {
        "id": "wr4HiZGtNq3Y"
      },
      "execution_count": null,
      "outputs": []
    },
    {
      "cell_type": "code",
      "source": [],
      "metadata": {
        "id": "LHIOy8asNrc5"
      },
      "execution_count": null,
      "outputs": []
    },
    {
      "cell_type": "markdown",
      "source": [
        "<a name=\"final-implementation\"></a>\n",
        "# Final Implemetation"
      ],
      "metadata": {
        "id": "LLxtDB3QrqVm"
      }
    },
    {
      "cell_type": "markdown",
      "source": [
        "Since Twitter API has limitations of number of tweets that can be pulled and also require authentication with it's own limitations, hence snscrape is a better choice."
      ],
      "metadata": {
        "id": "NX93yUJ1RvWj"
      }
    },
    {
      "cell_type": "code",
      "source": [
        "!pip install snscrape"
      ],
      "metadata": {
        "id": "-b5YfUNLvLyA",
        "outputId": "17f99105-0ca9-4fe6-d422-f93a91efdef9",
        "colab": {
          "base_uri": "https://localhost:8080/"
        }
      },
      "execution_count": 1,
      "outputs": [
        {
          "output_type": "stream",
          "name": "stdout",
          "text": [
            "Looking in indexes: https://pypi.org/simple, https://us-python.pkg.dev/colab-wheels/public/simple/\n",
            "Requirement already satisfied: snscrape in /usr/local/lib/python3.8/dist-packages (0.5.0.20230113)\n",
            "Requirement already satisfied: beautifulsoup4 in /usr/local/lib/python3.8/dist-packages (from snscrape) (4.6.3)\n",
            "Requirement already satisfied: filelock in /usr/local/lib/python3.8/dist-packages (from snscrape) (3.9.0)\n",
            "Requirement already satisfied: lxml in /usr/local/lib/python3.8/dist-packages (from snscrape) (4.9.2)\n",
            "Requirement already satisfied: pytz in /usr/local/lib/python3.8/dist-packages (from snscrape) (2022.7.1)\n",
            "Requirement already satisfied: requests[socks] in /usr/local/lib/python3.8/dist-packages (from snscrape) (2.25.1)\n",
            "Requirement already satisfied: chardet<5,>=3.0.2 in /usr/local/lib/python3.8/dist-packages (from requests[socks]->snscrape) (4.0.0)\n",
            "Requirement already satisfied: urllib3<1.27,>=1.21.1 in /usr/local/lib/python3.8/dist-packages (from requests[socks]->snscrape) (1.24.3)\n",
            "Requirement already satisfied: certifi>=2017.4.17 in /usr/local/lib/python3.8/dist-packages (from requests[socks]->snscrape) (2022.12.7)\n",
            "Requirement already satisfied: idna<3,>=2.5 in /usr/local/lib/python3.8/dist-packages (from requests[socks]->snscrape) (2.10)\n",
            "Requirement already satisfied: PySocks!=1.5.7,>=1.5.6 in /usr/local/lib/python3.8/dist-packages (from requests[socks]->snscrape) (1.7.1)\n"
          ]
        }
      ]
    },
    {
      "cell_type": "code",
      "source": [
        "import snscrape.modules.twitter as sntwitter\n",
        "import pandas as pd\n",
        "import re\n",
        "import traceback\n",
        "from tqdm.notebook import tqdm"
      ],
      "metadata": {
        "id": "N4uRdniqrua9"
      },
      "execution_count": 2,
      "outputs": []
    },
    {
      "cell_type": "code",
      "source": [
        "def get_tweets(query: str, limit: int) -> pd.DataFrame:\n",
        "    \"\"\"\n",
        "    Scrape tweets from twitter based on input search query\n",
        "    Arguments:\n",
        "        :param query: twitter search query as per https://twitter.com/search?q=\n",
        "        :param limit: number of tweets you want to scrape\n",
        "    Returns:\n",
        "        :return: a pandas dataframe with the tweets\n",
        "    \"\"\"\n",
        "    tweets = []\n",
        "    columns = [\n",
        "        'id',\n",
        "        'date',\n",
        "        'username',\n",
        "        'content',\n",
        "        'view_count',\n",
        "        'like_count',\n",
        "        'reply_count',\n",
        "        'retweet_count',\n",
        "        'quote_Count',\n",
        "        'url'\n",
        "    ]\n",
        "    try:  \n",
        "        twitter_search = sntwitter.TwitterSearchScraper(query).get_items()\n",
        "        for tweet in tqdm(twitter_search, total=limit):\n",
        "            if len(tweets) == limit:\n",
        "                break\n",
        "            else:\n",
        "                data = [\n",
        "                    tweet.id,\n",
        "                    tweet.date,\n",
        "                    tweet.user.username,\n",
        "                    tweet.rawContent,\n",
        "                    tweet.viewCount,\n",
        "                    tweet.likeCount,\n",
        "                    tweet.replyCount,\n",
        "                    tweet.retweetCount,\n",
        "                    tweet.quoteCount,\n",
        "                    tweet.url\n",
        "                ]\n",
        "                tweets.append(data)\n",
        "        df = pd.DataFrame(tweets, columns=columns)\n",
        "        return df\n",
        "    except Exception:\n",
        "        print(traceback.print_exc())\n",
        "        return pd.DataFrame()"
      ],
      "metadata": {
        "id": "bwRww1fMvPhW"
      },
      "execution_count": 3,
      "outputs": []
    },
    {
      "cell_type": "code",
      "source": [
        "query = 'India'\n",
        "limit = 100\n",
        "rawData = get_tweets(query, limit)"
      ],
      "metadata": {
        "id": "gadrCQCfvvt_",
        "outputId": "247b1f50-be50-49df-8c55-0bbc57fa11d8",
        "colab": {
          "base_uri": "https://localhost:8080/",
          "height": 49,
          "referenced_widgets": [
            "f7b439f16582460c86c8ed6bf0b2035e",
            "3508fede78a448bf8c6411ddb9dee7b3",
            "55995a8acd164a68b732fc49133354e7",
            "224b37600b7842c7910070b3d819e12c",
            "3f9b936b0f6344bc9aeab86277eaabcb",
            "8ca8710125a64ee68dab47cf72f9837b",
            "627e4d77fb2c4de69f6b98742da62164",
            "fed8e5ad57c749e8a166ac570516c691",
            "6e847244412142d0af8782788e4d5092",
            "e0bfcc979e9c4b3fb74c107b8d052021",
            "bdb37e0e699846feb55f43c8bd3298fb"
          ]
        }
      },
      "execution_count": 4,
      "outputs": [
        {
          "output_type": "display_data",
          "data": {
            "text/plain": [
              "  0%|          | 0/100 [00:00<?, ?it/s]"
            ],
            "application/vnd.jupyter.widget-view+json": {
              "version_major": 2,
              "version_minor": 0,
              "model_id": "f7b439f16582460c86c8ed6bf0b2035e"
            }
          },
          "metadata": {}
        }
      ]
    },
    {
      "cell_type": "code",
      "source": [
        "rawData.to_csv(\"tweets.csv\")\n",
        "rawData.to_json(\"tweets.json\")\n",
        "rawData.to_parquet(\"tweets.parquet\")"
      ],
      "metadata": {
        "id": "q3L-IgTW2A0f"
      },
      "execution_count": 5,
      "outputs": []
    },
    {
      "cell_type": "code",
      "source": [],
      "metadata": {
        "id": "Y25WfU9m3QkS"
      },
      "execution_count": null,
      "outputs": []
    }
  ]
}